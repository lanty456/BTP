{
 "cells": [
  {
   "cell_type": "code",
   "execution_count": 2,
   "metadata": {},
   "outputs": [
    {
     "name": "stdout",
     "output_type": "stream",
     "text": [
      "Requirement already satisfied: faiss-cpu in /home/pranit/.local/lib/python3.9/site-packages (1.8.0)\n",
      "Requirement already satisfied: numpy in /home/pranit/.local/lib/python3.9/site-packages (from faiss-cpu) (1.21.3)\n"
     ]
    }
   ],
   "source": [
    "!pip install faiss-cpu"
   ]
  },
  {
   "cell_type": "code",
   "execution_count": 3,
   "metadata": {},
   "outputs": [
    {
     "name": "stdout",
     "output_type": "stream",
     "text": [
      "Requirement already satisfied: rouge in /home/pranit/.local/lib/python3.9/site-packages (1.0.1)\n",
      "Requirement already satisfied: six in /usr/lib/python3/dist-packages (from rouge) (1.16.0)\n"
     ]
    }
   ],
   "source": [
    "!pip install rouge"
   ]
  },
  {
   "cell_type": "code",
   "execution_count": 4,
   "metadata": {},
   "outputs": [
    {
     "name": "stderr",
     "output_type": "stream",
     "text": [
      "[nltk_data] Downloading package punkt to /home/pranit/nltk_data...\n",
      "[nltk_data]   Package punkt is already up-to-date!\n",
      "/home/pranit/.local/lib/python3.9/site-packages/torch/cuda/__init__.py:611: UserWarning: Can't initialize NVML\n",
      "  warnings.warn(\"Can't initialize NVML\")\n",
      "/home/pranit/.local/lib/python3.9/site-packages/torch/cuda/__init__.py:740: UserWarning: CUDA initialization: The NVIDIA driver on your system is too old (found version 11060). Please update your GPU driver by downloading and installing a new version from the URL: http://www.nvidia.com/Download/index.aspx Alternatively, go to: https://pytorch.org to install a PyTorch version that has been compiled with your version of the CUDA driver. (Triggered internally at ../c10/cuda/CUDAFunctions.cpp:108.)\n",
      "  return torch._C._cuda_getDeviceCount() if nvml_count < 0 else nvml_count\n",
      "2024-05-06 22:29:35.476933: W tensorflow/stream_executor/platform/default/dso_loader.cc:64] Could not load dynamic library 'libcudart.so.11.0'; dlerror: libcudart.so.11.0: cannot open shared object file: No such file or directory\n",
      "2024-05-06 22:29:35.476953: I tensorflow/stream_executor/cuda/cudart_stub.cc:29] Ignore above cudart dlerror if you do not have a GPU set up on your machine.\n"
     ]
    }
   ],
   "source": [
    "import matplotlib.pyplot as plt\n",
    "import nltk\n",
    "nltk.download('punkt')\n",
    "from nltk import word_tokenize\n",
    "import spacy\n",
    "import faiss\n",
    "from transformers import RagTokenizer, RagRetriever, RagTokenForGeneration, RagSequenceForGeneration\n",
    "from datasets import load_dataset\n",
    "import pandas as pd\n",
    "from tqdm import tqdm\n",
    "import copy\n",
    "from torch.utils.data import Dataset\n",
    "from torch.utils.data import DataLoader\n",
    "import torch\n",
    "import torch.nn as nn\n",
    "from nltk import word_tokenize"
   ]
  },
  {
   "cell_type": "code",
   "execution_count": 5,
   "metadata": {},
   "outputs": [
    {
     "name": "stdout",
     "output_type": "stream",
     "text": [
      "cpu\n"
     ]
    }
   ],
   "source": [
    "device = 'cuda' if torch.cuda.is_available() else 'cpu'\n",
    "print(device)"
   ]
  },
  {
   "cell_type": "code",
   "execution_count": 5,
   "metadata": {},
   "outputs": [
    {
     "name": "stderr",
     "output_type": "stream",
     "text": [
      "Reading JSON files: 100%|██████████| 21613/21613 [00:05<00:00, 4250.31file/s]"
     ]
    },
    {
     "name": "stdout",
     "output_type": "stream",
     "text": [
      "Almost read all\n",
      "read all\n",
      "read\n"
     ]
    },
    {
     "name": "stderr",
     "output_type": "stream",
     "text": [
      "\n"
     ]
    }
   ],
   "source": [
    "import os\n",
    "import json\n",
    "from tqdm import tqdm  # Use tqdm.notebook for Jupyter compatibility\n",
    "i = 0\n",
    "# Specify the directory containing your JSON files\n",
    "directory_path = './searchqa-val'\n",
    "\n",
    "# Initialize an empty list to store the data from individual files\n",
    "combined_data_val = []\n",
    "\n",
    "# Get the list of JSON files in the directory\n",
    "json_files = [filename for filename in os.listdir(directory_path) if filename.endswith('.json')]\n",
    "\n",
    "# Use tqdm.notebook to display a progress bar in Jupyter notebook\n",
    "for filename in tqdm(json_files, desc='Reading JSON files', unit='file'):\n",
    "    file_path = os.path.join(directory_path, filename)\n",
    "    \n",
    "    # Read data from each file and append it to the combined_data_val list\n",
    "    with open(file_path, 'r') as file:\n",
    "        file_data = json.load(file)\n",
    "        combined_data_val.append(file_data)\n",
    "        i += 1\n",
    "    if(i == 21613):\n",
    "        print(\"read all\")\n",
    "    elif(i == 21612):\n",
    "        print(\"Almost read all\")\n",
    "print(\"read\")\n",
    "# Now, combined_data_val contains the data from all JSON files in the specified directory\n",
    "# print(combined_data_val)\n"
   ]
  },
  {
   "cell_type": "code",
   "execution_count": 6,
   "metadata": {},
   "outputs": [
    {
     "name": "stderr",
     "output_type": "stream",
     "text": [
      "Reading JSON files:  52%|█████▏    | 22479/43228 [00:04<00:04, 4561.27file/s]"
     ]
    },
    {
     "name": "stdout",
     "output_type": "stream",
     "text": [
      "Almost read all\n",
      "read all\n"
     ]
    },
    {
     "name": "stderr",
     "output_type": "stream",
     "text": [
      "Reading JSON files: 100%|██████████| 43228/43228 [00:09<00:00, 4554.14file/s]"
     ]
    },
    {
     "name": "stdout",
     "output_type": "stream",
     "text": [
      "read\n"
     ]
    },
    {
     "name": "stderr",
     "output_type": "stream",
     "text": [
      "\n"
     ]
    }
   ],
   "source": [
    "import os\n",
    "import json\n",
    "from tqdm import tqdm  # Use tqdm.notebook for Jupyter compatibility\n",
    "i = 0\n",
    "# Specify the directory containing your JSON files\n",
    "directory_path = './searchqa-test'\n",
    "\n",
    "# Initialize an empty list to store the data from individual files\n",
    "combined_data_test = []\n",
    "\n",
    "# Get the list of JSON files in the directory\n",
    "json_files = [filename for filename in os.listdir(directory_path) if filename.endswith('.json')]\n",
    "\n",
    "# Use tqdm.notebook to display a progress bar in Jupyter notebook\n",
    "for filename in tqdm(json_files, desc='Reading JSON files', unit='file'):\n",
    "    file_path = os.path.join(directory_path, filename)\n",
    "    \n",
    "    # Read data from each file and append it to the combined_data_test list\n",
    "    with open(file_path, 'r') as file:\n",
    "        file_data = json.load(file)\n",
    "        combined_data_test.append(file_data)\n",
    "        i += 1\n",
    "    if(i == 21613):\n",
    "        print(\"read all\")\n",
    "    elif(i == 21612):\n",
    "        print(\"Almost read all\")\n",
    "print(\"read\")\n",
    "# Now, combined_data_test contains the data from all JSON files in the specified directory\n",
    "# print(combined_data_test)\n"
   ]
  },
  {
   "cell_type": "code",
   "execution_count": 7,
   "metadata": {},
   "outputs": [
    {
     "name": "stdout",
     "output_type": "stream",
     "text": [
      "21613\n",
      "43228\n"
     ]
    }
   ],
   "source": [
    "print(len(combined_data_val))\n",
    "print(len(combined_data_test))"
   ]
  },
  {
   "cell_type": "code",
   "execution_count": 8,
   "metadata": {},
   "outputs": [
    {
     "data": {
      "text/plain": [
       "26"
      ]
     },
     "execution_count": 8,
     "metadata": {},
     "output_type": "execute_result"
    }
   ],
   "source": [
    "len(combined_data_val[2]['search_results'][0]['snippet'].strip().split())"
   ]
  },
  {
   "cell_type": "code",
   "execution_count": 9,
   "metadata": {},
   "outputs": [
    {
     "data": {
      "text/plain": [
       "{'category': 'TREATS',\n",
       " 'search_results': [{'url': '/url?q=http://www.countryliving.com/food-drinks/g764/easy-summer-desserts-0409/&sa=U&ved=0ahUKEwi3iJbV54XQAhXBMyYKHcSvAkUQFggZMAE&usg=AFQjCNHvrRGkc0DEfEVK-HkbRPFzGaKZiA',\n",
       "   'snippet': \"May 11, 2016 ... 50 Easy Summer Desserts That Don't Require an Oven. Because it's hot enough \\nalready without turning the oven on. Created with Sketch.\",\n",
       "   'related_links': None,\n",
       "   'title': '50 Easy Summer Desserts - Best Recipes for Frozen Summer ...'},\n",
       "  {'url': '/url?q=https://www.pinterest.com/explore/summer-desserts/&sa=U&ved=0ahUKEwi3iJbV54XQAhXBMyYKHcSvAkUQFggeMAI&usg=AFQjCNEOi-RWaB5bGtiRPRmSBri8DSN5NA',\n",
       "   'snippet': 'This quick and easy Lemon Raspberry Poke Cake will be your next favorite \\nsummer cake. Poke cakes make a great potluck dessert. This poke cake is a \\nlemon...',\n",
       "   'related_links': None,\n",
       "   'title': '1000+ ideas about Summer Desserts on Pinterest | Desserts, Easy ...'},\n",
       "  {'url': '/url?q=https://www.facebook.com/mybakingaddiction/photos/pcb.10152850696551697/10152850691261697/%3Ftype%3D3&sa=U&ved=0ahUKEwi3iJbV54XQAhXBMyYKHcSvAkUQFgghMAM&usg=AFQjCNE3zaCqgHLUFb0SqqwSZLJTdZFBQw',\n",
       "   'snippet': \"My Baking Addiction http://mybakingaddiction.com/ Follow Me on Twitter: ... \\nRecipe Here: http://www.mybakingaddiction.com/cookies-and-cream-cake/  'No \\nBake Cookies and Cream Cake ~ A simple, easy and incredibly delicious \\nsummer ... maybe Sharon Muirhead could make you one of these next as it's her \\nturn. 1  4 hrs.\",\n",
       "   'related_links': None,\n",
       "   'title': 'My Baking Addiction - Timeline | Facebook'},\n",
       "  {'url': '/url?q=http://www.delish.com/content/dessert-recipes/&sa=U&ved=0ahUKEwi3iJbV54XQAhXBMyYKHcSvAkUQFggkMAQ&usg=AFQjCNF0sYo7OadR0cPo69Bnfe0zaNwIJA',\n",
       "   'snippet': 'Whether it\\'s brownies, pie, or cake that strikes your fancy, our delicious dessert ... \\nMost Popular Dessert Recipes .... Say \"aloha\" to your go-to summer dessert.',\n",
       "   'related_links': None,\n",
       "   'title': '100+ Best Dessert Ideas - Delicious Recipes for Desserts - Delish.com'},\n",
       "  {'url': '/url?q=http://www.garfieldmedicalcenter.com/GMC-Blog/2016/July/Delicious-Light-Summer-Desserts.aspx&sa=U&ved=0ahUKEwi3iJbV54XQAhXBMyYKHcSvAkUQFggoMAU&usg=AFQjCNF_SBF2g1Eu7PqWJaV6xQWemPAZ_g',\n",
       "   'snippet': \"Jul 30, 2016 ... Summer means it's time for picnics, good times, and delicious food. ... Get the \\nentire recipe here! ... You may just find your new favorite dessert combination and \\nsurprise your family and friends with your fresh, healthy ideas.\",\n",
       "   'related_links': None,\n",
       "   'title': 'Delicious & Light Summer Desserts - Garfield Medical Center'},\n",
       "  {'url': '/url?q=http://www.swimmingly.com/relationships/food/10-clever-dessert-hacks-to-make-this-the-summer-of-the-ice-cream-sandwich/&sa=U&ved=0ahUKEwi3iJbV54XQAhXBMyYKHcSvAkUQFggsMAY&usg=AFQjCNG2ffZ63CWNxh_ekoWiW0EBFWKIDw',\n",
       "   'snippet': \"It's a basic formula for a summer dessert everyone loves. It's mobile. It's cool. ... \\nyourself with Cherry Garcia, or Rocky Road, or cookie dough, as seen here.\",\n",
       "   'related_links': None,\n",
       "   'title': '10 Clever Dessert Hacks to Make This the Summer of the Ice Cream ...'},\n",
       "  {'url': '/url?q=http://www.blogto.com/eat_drink/2016/06/the_20_most_popular_summertime_treats_in_toronto/&sa=U&ved=0ahUKEwi3iJbV54XQAhXBMyYKHcSvAkUQFggwMAc&usg=AFQjCNG_grD807YeGJBKk8O14u1JY7-6Uw',\n",
       "   'snippet': \"Jun 21, 2016 ... Here's a round-up of popular summertime treats in Toronto... ... Since opening its \\ndoors this spring, the Baldwin Village shop has seen ... This Corktown dessert \\njoint makes a creamy soft serve in unique flavours like Earl Grey.\",\n",
       "   'related_links': None,\n",
       "   'title': 'The 20 most popular summertime treats in Toronto - blogTO'},\n",
       "  {'url': '/url?q=http://chocolatecoveredkatie.com/2011/08/05/delicious-summer-dessert-recipes/&sa=U&ved=0ahUKEwi3iJbV54XQAhXBMyYKHcSvAkUQFgg0MAg&usg=AFQjCNF8rw5PKzLErMtVUfuv6NH87sQkyw',\n",
       "   'snippet': \"Aug 5, 2011 ... Did you know it's National Underwear Day? I'm not sure what ... Instead, the post \\nhighlights a few of my favorite summer-fruit recipes. Such as: ... to try 'em I'll \\nkeep an eye out, but I've never seen them for sale around here!\",\n",
       "   'related_links': None,\n",
       "   'title': 'Delicious Summer Dessert Recipes - Chocolate Covered Katie'},\n",
       "  {'url': '/url?q=http://www.huffingtonpost.com/2015/05/19/no-bake-dessert-recipes_n_3428082.html&sa=U&ved=0ahUKEwi3iJbV54XQAhXBMyYKHcSvAkUQFghKMBE&usg=AFQjCNF44ae3RhYLWZfiE39BhCpHVrCdag',\n",
       "   'snippet': 'Jun 13, 2013 ... Here are 36 no-bake desserts that are about to make your summer cool, .... Get \\nthe Simple Pumpkin Cheesecake Trifles recipe by My Baking...',\n",
       "   'related_links': None,\n",
       "   'title': \"No-Bake Dessert Recipes Because It's Just Too Damn Hot ...\"},\n",
       "  {'url': '/url?q=http://gnowfglins.com/2016/05/24/51-cold-summer-desserts/&sa=U&ved=0ahUKEwi3iJbV54XQAhXBMyYKHcSvAkUQFghPMBI&usg=AFQjCNHL3S0UF31CKePpLQaBMwtwkVLs3A',\n",
       "   'snippet': \"May 24, 2016 ... 51 Cold Summer Desserts | Could there possibly be a better way to finish ... It's \\nfree of common allergens and full of chocolate! ... Here you go! ... This may be the \\nfirst ever dessert pizza made with cauliflower we've ever seen!\",\n",
       "   'related_links': None,\n",
       "   'title': '51 Cold & Healthy Summer Desserts | Traditional Cooking School'},\n",
       "  {'url': '/url?q=http://www.midwestliving.com/food/desserts/summer-dessert-recipes/&sa=U&ved=0ahUKEwi3iJbV54XQAhXBMyYKHcSvAkUQFghTMBM&usg=AFQjCNGKEdFpnSUzvYRfHzRmprmhM-W6YQ',\n",
       "   'snippet': 'Our 36 recipes for summer sweets offer ideas for ice cream desserts, refreshing \\npies, summer-inspired cakes, fruity bar cookies, shortcake and ... You are here.',\n",
       "   'related_links': None,\n",
       "   'title': 'Refreshing Summer Dessert Recipes | Midwest Living'},\n",
       "  {'url': '/url?q=http://www.tasteofhome.com/recipes/ingredients/berry-recipes/top-10-strawberry-desserts&sa=U&ved=0ahUKEwi3iJbV54XQAhXBMyYKHcSvAkUQFghXMBQ&usg=AFQjCNG2nhwlkAqd7Uy7vf6l00G3Q-dV_g',\n",
       "   'snippet': 'Celebrate berry season with these top-rated strawberry desserts! From pies and \\nshortcakes to trifles and tortes, these 5-star recipes are sure to be favorites.',\n",
       "   'related_links': None,\n",
       "   'title': 'Top 10 Strawberry Desserts | Taste of Home'},\n",
       "  {'url': '/url?q=http://www.pacificfoods.com/our-story/blog/top-five-chocolate-desserts-for-summer.aspx&sa=U&ved=0ahUKEwi3iJbV54XQAhXBMyYKHcSvAkUQFghbMBU&usg=AFQjCNHbtnQB0An-OHhab3KO-7oQOyzDjQ',\n",
       "   'snippet': \"Jul 18, 2014 ... Here are our top five chocolate desserts for summer, sure to please. ... It's the \\nperfect mix of chocolate, comfort and ice to break the heat wave.\",\n",
       "   'related_links': None,\n",
       "   'title': 'Top Five Chocolate Desserts for Summer - Pacific Foods'},\n",
       "  {'url': '/url?q=http://thepioneerwoman.com/cooking/my-very-favorite-summer-desserts/&sa=U&ved=0ahUKEwi3iJbV54XQAhXBMyYKHcSvAkUQFghgMBY&usg=AFQjCNHifgj-Arj7D523-aqc7nI10mH3oQ',\n",
       "   'snippet': \"Jun 7, 2012 ... My Very Favorite Summer Desserts ... These have all appeared here on PW \\nCooks through the years. ... It's Lime Pie. Either way, it's delish. .... Man when I \\nsaw the picture of the fruit pizza I remembered how GOOD it was the...\",\n",
       "   'related_links': None,\n",
       "   'title': 'My Very Favorite Summer Desserts | The Pioneer Woman'},\n",
       "  {'url': 'https://books.google.com/books?id=EmVrCgAAQBAJ&pg=PT58&lpg=PT58&dq=It%27s+the+popular+summertime+dessert+seen+here&source=bl&ots=0IKvfeQnkL&sig=NMeu-Klvl8182PoZpwSw8-bTjzU&hl=en&sa=X&ved=0ahUKEwi3iJbV54XQAhXBMyYKHcSvAkUQ6AEIZTAX',\n",
       "   'snippet': None,\n",
       "   'related_links': None,\n",
       "   'title': 'Summer Desserts - Google Books Result'},\n",
       "  {'url': '/url?q=https://smittenkitchen.com/2011/05/strawberry-summer-cake/&sa=U&ved=0ahUKEwi3iJbV54XQAhXBMyYKHcSvAkUQFghoMBg&usg=AFQjCNG22f1kDjDm3GhYvBPrWDy_3AhSjQ',\n",
       "   'snippet': \"May 23, 2011 ... We cannot make summer get here sooner, but we can at least lay out the \\nwelcome mat. .... I think this is the prettiest cake I've seen on your website! Thanks \\nfor ..... Maybe it's all that cool weather that makes them so good?\",\n",
       "   'related_links': None,\n",
       "   'title': 'strawberry summer cake  smitten kitchen'},\n",
       "  {'url': '/url?q=http://english.visitseoul.net/tours/Desserts-at-Garosu-gil_/29%3FcurPage%3D1&sa=U&ved=0ahUKEwi3iJbV54XQAhXBMyYKHcSvAkUQFghrMBk&usg=AFQjCNETO93AuLeGrfjv07mzWHXtAwY6Rw',\n",
       "   'snippet': \"People also come here to find good restaurants, brunch, cafes, desserts. ... Let's \\ntake a closer look at one of the things that Garosu-gil is known for: desserts. ... As \\nalready seen on social media, there are so many unique types of ice creams ... \\nWith its soft and moist texture and sweet caramel flavor, the caramel roll cake is...\",\n",
       "   'related_links': None,\n",
       "   'title': 'Unique Summer Desserts at Garosu-gil - Tours : Visit Seoul - The ...'},\n",
       "  {'url': '/url?q=http://ohsheglows.com/2012/01/05/top-21-vegan-dessert-recipes-of-2011/&sa=U&ved=0ahUKEwi3iJbV54XQAhXBMyYKHcSvAkUQFghuMBo&usg=AFQjCNFIzpav0_-KQZJIy6tZsgRatVl79w',\n",
       "   'snippet': \"Jan 5, 2012 ... After compiling the most popular dessert recipes of 2011, here's what I found: \\nYou guys go ... Its such an easy dessert to pick at from the freezer! ... away 50 \\ngallons of fresh organic blueberries for FREE this summer! sweet old farmer that \\nlives ...... I was excited about #15 until I saw that it has tons of sugar.\",\n",
       "   'related_links': None,\n",
       "   'title': 'Top 21 Vegan Dessert Recipes of 2011  Oh She Glows'},\n",
       "  {'url': '/url?q=http://minnesota.cbslocal.com/top-lists/best-summertime-desserts-in-minnesota/&sa=U&ved=0ahUKEwi3iJbV54XQAhXBMyYKHcSvAkUQFgh4MBw&usg=AFQjCNE6zkhYBZ6Fr2OEvHgpL_3adRnKMQ',\n",
       "   'snippet': \"Jul 10, 2013 ... Sometimes, a cool summery treat is just the ticket. ... Summertime is here in \\nMinnesota and we're in the thick of it now. ... With flavors like caramel cashew, \\nbanana royal, strawberry and cookie dough, it's hard to make a decision. .... \\nVideo Library  Audio on Demand  Seen On WCCO-TV  Heard On WCCO-...\",\n",
       "   'related_links': None,\n",
       "   'title': 'Best Summertime Desserts In Minnesota  WCCO | CBS Minnesota'},\n",
       "  {'url': '/url?q=http://dessertfirstgirl.com/2007/08/la-festa-al-fre.html&sa=U&ved=0ahUKEwi3iJbV54XQAhXBMyYKHcSvAkUQFgh9MB0&usg=AFQjCNFgq7E9xANCVd_dRNXwbRo5mFryDg',\n",
       "   'snippet': \"Aug 31, 2007 ... As one of the joys of summer, it's not to be missed  I'll certainly be sad when this \\nyear's ... Pour the mixture into a clean bowl and let cool. ... I've never seen lemon \\nverbena here, it sounds like a wonderful herb to cook with.\",\n",
       "   'related_links': None,\n",
       "   'title': 'La Festa al Fresco: Lemon Verbena, The Scent of Summer - Dessert ...'},\n",
       "  {'url': '/url?q=http://etramping.com/taste-of-lisbon-best-portuguese-desserts/&sa=U&ved=0ahUKEwi3iJbV54XQAhXBMyYKHcSvAkUQFgiCATAe&usg=AFQjCNHgLuTAnPRkUL6ZoQ-tgm9kzT-t8w',\n",
       "   'snippet': \"Aug 15, 2014 ... This summer I finally made it to Portugal. ... Here is a list of best Portuguese \\ndesserts you can't afford to miss when in Lisbon (or any other ... It's a traditional \\nPortuguese rice pudding with a dash of cinnamon and raisins on top. ... I've never \\nseen any other Portuguese dessert other than egg tarts being sold in...\",\n",
       "   'related_links': None,\n",
       "   'title': \"Taste Of Portugal: 15 Best Desserts You Can't Afford To Miss ...\"},\n",
       "  {'url': '/url?q=http://freshnewengland.com/fresh/2013/07/summer-meringue-a-new-site-and-a-giveaway.html&sa=U&ved=0ahUKEwi3iJbV54XQAhXBMyYKHcSvAkUQFgiHATAf&usg=AFQjCNGKkQJvb6YtZ3KuSXmvL6MnVglnxA',\n",
       "   'snippet': \"Jul 22, 2013 ... I love meringue in the summer because it's simple, pretty, light and ... 1.76 lb (800 \\ng) bag of dark chocolate Callebaut Crispearls as seen here.\",\n",
       "   'related_links': None,\n",
       "   'title': 'Summer Meringue, A New Site and a Giveaway | Fresh Dessert Blog'},\n",
       "  {'url': '/url?q=http://info.interhealthusa.com/healthier-ways-to-enjoy-summer-desserts&sa=U&ved=0ahUKEwi3iJbV54XQAhXBMyYKHcSvAkUQFgiLATAg&usg=AFQjCNEXpWbMHXL9vxh_62SuOwAIjR8YWA',\n",
       "   'snippet': 'Jun 23, 2015 ... Looking for healthier ways to enjoy some classic summer sweets? Here are a few \\nhealthy variations of some favorite summer desserts. ... Slice a banana (still in its \\npeel) lengthwise, and stuff it with almond butter, some dark ... Studies have \\nshown that participants receiving Meratrim instead of the placebo...',\n",
       "   'related_links': None,\n",
       "   'title': 'Healthier Ways to Enjoy Summer Desserts - Inter Health Logo'},\n",
       "  {'url': 'https://books.google.com/books?id=O9NJAAAAYAAJ&pg=RA7-PA42&lpg=RA7-PA42&dq=It%27s+the+popular+summertime+dessert+seen+here&source=bl&ots=-Aeo46Qykg&sig=Yu-kcMVvRA3P10navxe6rDiWOb8&hl=en&sa=X&ved=0ahUKEwi3iJbV54XQAhXBMyYKHcSvAkUQ6AEIjwEwIQ',\n",
       "   'snippet': None,\n",
       "   'related_links': None,\n",
       "   'title': 'Special Bulletin ... - Google Books Result'},\n",
       "  {'url': 'https://books.google.com/books?id=KdlQAQAAMAAJ&pg=RA4-PA42&lpg=RA4-PA42&dq=It%27s+the+popular+summertime+dessert+seen+here&source=bl&ots=APK4_5Sorx&sig=FJNibHW0nWe_y9jIyEmr0C4_OW8&hl=en&sa=X&ved=0ahUKEwi3iJbV54XQAhXBMyYKHcSvAkUQ6AEIkQEwIg',\n",
       "   'snippet': None,\n",
       "   'related_links': None,\n",
       "   'title': 'Bulletin - Google Books Result'},\n",
       "  {'url': 'https://books.google.com/books?id=XT_OAAAAMAAJ&pg=RA3-PA42&lpg=RA3-PA42&dq=It%27s+the+popular+summertime+dessert+seen+here&source=bl&ots=YBvZ4u3whv&sig=pTEHTPp3XgnFRu_XCwoobM6BVwY&hl=en&sa=X&ved=0ahUKEwi3iJbV54XQAhXBMyYKHcSvAkUQ6AEIkwEwIw',\n",
       "   'snippet': None,\n",
       "   'related_links': None,\n",
       "   'title': 'Regular Bulletin - Google Books Result'},\n",
       "  {'url': '/url?q=http://www.treehugger.com/easy-vegetarian-recipes/delicious-desserts-12-sweet-recipes-vegans-and-vegetarians.html&sa=U&ved=0ahUKEwi3iJbV54XQAhXBMyYKHcSvAkUQFgiVATAk&usg=AFQjCNEcoMDwUwcTlCGUsex1VwsykZbadg',\n",
       "   'snippet': \"Sep 27, 2013 ... These simple, tasty recipes are healthier versions of favorite ... The way forward \\nis here ... Plus, it's the healthiest pudding recipe you're likely to find! ... Summer \\nfruit tartlets with lemon olive oil crust [Vegetarian, Gluten-Free]\",\n",
       "   'related_links': None,\n",
       "   'title': 'Delicious Desserts! 12 sweet recipes for vegans and vegetarians ...'},\n",
       "  {'url': '/url?q=https://wow-j.com/en/Allguides/other/food/00372_en/&sa=U&ved=0ahUKEwi3iJbV54XQAhXBMyYKHcSvAkUQFgiaATAl&usg=AFQjCNHhbGEiqIeiexBeFpKVofMlpUmKow',\n",
       "   'snippet': \"Jul 28, 2016 ... Here are 5 recommended desserts to refresh you and keep you cool during that \\ntime. ... The transparent manju has visible anko and it is quite refreshing ... \\nTogether with the vinegar, it's perfect for the summer heat as well as...\",\n",
       "   'related_links': None,\n",
       "   'title': '5 Summer Desserts You Want to Eat in Japan - Wa-Oh! JAPAN'},\n",
       "  {'url': '/url?q=http://blog.forbestravelguide.com/five-decadent-summer-desserts-in-tokyo&sa=U&ved=0ahUKEwi3iJbV54XQAhXBMyYKHcSvAkUQFgieATAm&usg=AFQjCNF8aM_ewxcL9I2_M0395xXVqIRqQA',\n",
       "   'snippet': 'Jul 10, 2016 ... Here are a few of our favorite gourmet spins on the classics. ... at the Park Hyatt \\nTokyo is also adding kakigri to its popular afternoon tea sets.',\n",
       "   'related_links': None,\n",
       "   'title': 'Five Decadent Summer Desserts In Tokyo - Forbes Travel Guide Blog'},\n",
       "  {'url': '/url?q=http://www.businessinsider.com/9-refreshing-summer-desserts-2016-7&sa=U&ved=0ahUKEwi3iJbV54XQAhXBMyYKHcSvAkUQFgijATAn&usg=AFQjCNHnghrkhgRgKyHLCWn-BpGKSCa_0g',\n",
       "   'snippet': \"Jul 12, 2016 ... This iPhone 7 case has one of the coolest features I've ever seen ... Netflix is 12 \\ntimes as popular as its streaming competitors among. .... Citrus fruits are well \\nknown for their healthy punch of vitamin C, and berries are the kings and queens \\nof ... Here are 9 fruity desserts to say yes to this summer.\",\n",
       "   'related_links': None,\n",
       "   'title': '9 refreshing summer desserts - Business Insider'},\n",
       "  {'url': '/url?q=http://www.today.com/food/easy-5-ingredient-summer-desserts-anyone-can-make-t25016&sa=U&ved=0ahUKEwi3iJbV54XQAhXBMyYKHcSvAkUQFginATAo&usg=AFQjCNGbLeUTVvssRJv-YLJNy9J0L1JrzA',\n",
       "   'snippet': \"Jul 25, 2016 ... You don't need a long list of ingredients to make sweet summer treats. Here, \\nGesine Bullock-Prado shares recipes for easy pavlova and a...\",\n",
       "   'related_links': None,\n",
       "   'title': 'Easy 5-ingredient summer desserts anyone can make - TODAY.com'},\n",
       "  {'url': '/url?q=https://www.theknot.com/content/wedding-cake-alternatives-desserts&sa=U&ved=0ahUKEwi3iJbV54XQAhXBMyYKHcSvAkUQFgisATAp&usg=AFQjCNElIdSAgwuKXC4ZSWP5QVg9HtCtPA',\n",
       "   'snippet': \"From finger foods to mini versions of the classics, here are 15 dessert ... all-\\naround crowd-pleaser that can be served at any timeespecially when it's a la \\nmode.\",\n",
       "   'related_links': None,\n",
       "   'title': \"Delicious Wedding Desserts That Aren't Cake - The Knot\"},\n",
       "  {'url': '/url?q=http://www.primroseplaceapartments.com/blog/summer-dessert-recipes/&sa=U&ved=0ahUKEwi3iJbV54XQAhXBMyYKHcSvAkUQFgiwATAq&usg=AFQjCNGopQRieDt36RINSfejvRicDESxow',\n",
       "   'snippet': \"In fact, here are some of our favorite summer dessert recipes that are certainly ... \\nBut while we've seen plenty of recipes over the years, this one has to rank near \\nthe top. ... But when it's all said and done, you'll be looking at a moist and fluffy...\",\n",
       "   'related_links': None,\n",
       "   'title': 'Summer Dessert Recipes | Primrose Place Apartments'},\n",
       "  {'url': '/url?q=http://greatist.com/health/62-healthier-gluten-free-desserts&sa=U&ved=0ahUKEwi3iJbV54XQAhXBMyYKHcSvAkUQFgizATAr&usg=AFQjCNE1KzFQJg0ePwZfNCOsN47iQX3wJA',\n",
       "   'snippet': \"Mar 14, 2013 ... So check out these 62 healthier gluten-free dessert recipes, and get cooking! ... \\nThe result is one of the greenest  and cheeriest  pies we've ever seen. ... It's \\nalso incredibly simple: Peaches (or any summer fruits), gluten-free flour, ... Here's \\none sugar-free, gluten-free recipe that's certainly not taste-free.\",\n",
       "   'related_links': None,\n",
       "   'title': '62 Healthier Gluten-Free Desserts | Greatist'},\n",
       "  {'url': '/url?q=https://brightside.me/article/12-delightful-summer-desserts-10305/&sa=U&ved=0ahUKEwi3iJbV54XQAhXBMyYKHcSvAkUQFgi4ATAs&usg=AFQjCNH95S9wLCmXJWI7_JMgX_G-6gbUfQ',\n",
       "   'snippet': \"Everyone enjoys eating something sweet in the summer  it's part of what makes \\nit the ... Here are 12 of the tastiest desserts which we guarantee will brighten up \\nyour summer. ... Allow it to cool down to room temperature, and then place in the \\nrefrigerator over night. .... Beauty secrets as seen from a scientific point of view.\",\n",
       "   'related_links': None,\n",
       "   'title': '12 delightful summer desserts - BrightSide'},\n",
       "  {'url': '/url?q=https://savingstar.com/blog/2014/08/end-of-summer-desserts/&sa=U&ved=0ahUKEwi3iJbV54XQAhXBMyYKHcSvAkUQFgi7ATAt&usg=AFQjCNEvzJf0egRNvOntKZMygKiuOF5fCw',\n",
       "   'snippet': \"Aug 14, 2014 ... Culinary.net has selected 10 of their favorite end-of-summer dessert ... the warm \\nSpice Island spices which I haven't seen in my Mom's recipe. ... on that delicious \\npumpkin pie flavor and it's absolutely adorable. ... Join here!\",\n",
       "   'related_links': None,\n",
       "   'title': 'Which of these end of summer desserts is your favorite? Vote to win ...'},\n",
       "  {'url': '/url?q=http://spectacularlydelicious.com/2010/06/01/flan-de-coco-famous-desserts/&sa=U&ved=0ahUKEwi3iJbV54XQAhXBMyYKHcSvAkUQFgi_ATAu&usg=AFQjCNFhgEuLFUxzpLvUlw3tfBnWZi3HEA',\n",
       "   'snippet': \"Jun 1, 2010 ... Eggs, cream and fruits make an elegant summer dessert. ... mind you  wasn't \\nenough, its arrival is heralded by enormous, three-story-high ... The versatility is a \\nbonus as you may served them singly, as seen here, or you can...\",\n",
       "   'related_links': None,\n",
       "   'title': \"Flan de Coco, one of Cuba's Famous Desserts | Spectacularly ...\"},\n",
       "  {'url': '/url?q=http://paleomg.com/category/food/treats/&sa=U&ved=0ahUKEwi3iJbV54XQAhXBMyYKHcSvAkUQFgjDATAv&usg=AFQjCNHG6JgP3wLKgtpoTIZBTrCedZ1inQ',\n",
       "   'snippet': \"I've known Jennifer from Predominantly Paleo for a few years now and in those \\nfew years, ... I remember growing up on the swim team during the summer \\nmonths of my ... It's only Tuesday and this week is already flying by. ... Let me first \\npreface this recipe by telling you something really important here: I LOVE .... As \\nSeen On.\",\n",
       "   'related_links': None,\n",
       "   'title': 'Treats | - PaleOMG'},\n",
       "  {'url': '/url?q=http://www.thesimplyluxuriouslife.com/blueberryrhubarbgalette/&sa=U&ved=0ahUKEwi3iJbV54XQAhXBMyYKHcSvAkUQFgjHATAw&usg=AFQjCNF1qC4b1bah0Es_AZY9mymI7N-4wg',\n",
       "   'snippet': 'Jun 19, 2016 ... A New Summer Dessert  Blueberry & Rhubarb Galette ... pastry frame (as seen \\nhere in this TSLL recipe) or between two pieces of wax paper.',\n",
       "   'related_links': None,\n",
       "   'title': 'A New Summer Dessert  Blueberry & Rhubarb Galette  The ...'},\n",
       "  {'url': '/url?q=http://www.wave3.com/category/135391/summer-desserts&sa=U&ved=0ahUKEwi3iJbV54XQAhXBMyYKHcSvAkUQFgjLATAx&usg=AFQjCNGFmVJGs2Q7jgM3lVQdbs21roVcFg',\n",
       "   'snippet': 'Easy Summer Fruit Salad ... Melt the chocolate in the top of a double boiler. Heat, \\nstirring ... It\\'s summertime, and though we all may \"scream for ice cream\", our \\nwaistlines are begging us to lighten up.More ... For recipes seen on WAVE 3 \\nListens, Click Here.More ... Check here for the full archive of recipe collections.\\nMore.',\n",
       "   'related_links': None,\n",
       "   'title': 'Summer Desserts - wave3.com-Louisville News, Weather & Sports'},\n",
       "  {'url': '/url?q=http://anitalianinmykitchen.com/frozen-yogurt-cake/&sa=U&ved=0ahUKEwi3iJbV54XQAhXBMyYKHcSvAkUQFgjNATAy&usg=AFQjCNEePWhLTiTJiJjE8KIOoI7sgBIDNg',\n",
       "   'snippet': \"May 27, 2016 ... Chocolate Chip Frozen Yogurt Cake, the perfect Summertime Dessert. ... \\nAlthough I really wish I did like it, it's one of those healthy grab out of ... I have \\nnever seen chocolate yogurt in the grocery store here, but .... TOP POSTS.\",\n",
       "   'related_links': None,\n",
       "   'title': 'Chocolate Chip Frozen Yogurt Cake - An Italian in my Kitchen'},\n",
       "  {'url': '/url?q=http://www.davidlebovitz.com/almond-cake-recipe/&sa=U&ved=0ahUKEwi3iJbV54XQAhXBMyYKHcSvAkUQFgjSATAz&usg=AFQjCNE70xK7GK7UsJvBEqQOgFSMpBXvLw',\n",
       "   'snippet': \"Jun 23, 2010 ... Moist delicious Almond Cake, which goes perfectly with fruits & berries or ... And I \\noffer because I can't say that I've seen almond paste here in Calgary. .... It's \\nsimple yet rich, and works triple duty (important on a desert island) as it's .... This \\nrecipe makes the most perfect summer dessert especially when...\",\n",
       "   'related_links': None,\n",
       "   'title': 'Almond Cake - David Lebovitz'},\n",
       "  {'url': '/url?q=http://www.grubstreet.com/2016/06/boozy-milkshakes-summer-desserts.html&sa=U&ved=0ahUKEwi3iJbV54XQAhXBMyYKHcSvAkUQFgjWATA0&usg=AFQjCNGPbLbFRk32_k_Rbumx_cgxp2pOMA',\n",
       "   'snippet': \"Jun 14, 2016 ... Here are eight excellent summer treats with a decidedly grown-up twist. ... The \\nBirthday Cake Fancy Shake's decadence is near obscene: It's Cereal Milk soft-\\nserve, whole milk, cake truffles, and ... Most Watched on Grub Street...\",\n",
       "   'related_links': None,\n",
       "   'title': '8 Boozy, Icy Desserts to Cool You Off This Summer - Grub Street'},\n",
       "  {'url': '/url?q=http://blog.cookingchanneltv.com/2012/07/18/best-plum-dessert-recipes/&sa=U&ved=0ahUKEwi3iJbV54XQAhXBMyYKHcSvAkUQFgjaATA1&usg=AFQjCNG1nsnmYaFEaJlK1qSLym-JlCxWRg',\n",
       "   'snippet': 'Jul 18, 2012 ... Its sweet and tart flavor make it the ideal ingredient for cakes, cobblers and \\ncompotes. Here are our favorite plum recipes to bake up right now: ... Tags: \\ndessert recipes plums stone fruit summer dessert recipes summer fest ..... As \\nSeen on TV  By The Book  Cookbooks  Chefs and Hosts  Cocktails and...',\n",
       "   'related_links': None,\n",
       "   'title': 'Favorite Plum Dessert Recipes | Devour the Blog, by Cooking Channel'},\n",
       "  {'url': '/url?q=http://www.atasteofkoko.com/asian-desserts-austin/&sa=U&ved=0ahUKEwi3iJbV54XQAhXBMyYKHcSvAkUQFgjfATA2&usg=AFQjCNGSHsDRonG8F8UEzUxkocqAoNNcHA',\n",
       "   'snippet': \"Jul 9, 2015 ... Now that summer (and its best friend, humidity) is officially here, I'm all about \\nthese Asian desserts  shaved snows, mochi ice cream, bubble...\",\n",
       "   'related_links': None,\n",
       "   'title': '17 Asian Desserts To Cool off This Summer In Austin - A Taste of Koko'},\n",
       "  {'url': '/url?q=http://abc7chicago.com/food/tsukemen-puts-hot-and-cold-twist-on-ramen/1577554/&sa=U&ved=0ahUKEwi3iJbV54XQAhXBMyYKHcSvAkUQFgjkATA3&usg=AFQjCNGS5njevj978YXcSc-mpyU1TF4B-w',\n",
       "   'snippet': '3 days ago ... ... sub-category of the beloved Japanese noodle soup, but it\\'s barely seen here. \\n... It\\'s called \"tsukemen\" and there are a just a couple of places offering it now. \\nPopular in the summertime, some ramen shops here are now offering tsukemen \\nyear round. ... Extra Course: Honey-themed dessert at B. Restaurant.',\n",
       "   'related_links': None,\n",
       "   'title': 'Tsukemen puts hot-and-cold twist on ramen | abc7chicago.com'},\n",
       "  {'url': '/url?q=https://maisoncupcake.com/sticky-toffee-apple-pavlova-summer-dessert/&sa=U&ved=0ahUKEwi3iJbV54XQAhXBMyYKHcSvAkUQFgjoATA4&usg=AFQjCNGBZjCt_vaqYjf1pCRMJK4Ue_9ETg',\n",
       "   'snippet': 'Jul 29, 2016 ... So despite its popularity, pavlova has rarely made it onto my summer party \\nmenus. Whilst mixing the quark and white chocolate base for the...',\n",
       "   'related_links': None,\n",
       "   'title': 'Sticky Toffee Apple Pavlova Summer Dessert - Maison Cupcake'},\n",
       "  {'url': '/url?q=http://www.foodnetwork.com/recipes/ina-garten/peach-and-blueberry-crumbles-recipe.html&sa=U&ved=0ahUKEwi3iJbV54XQAhXBMyYKHcSvAkUQFgjtATA5&usg=AFQjCNHNRGz2iNshjwcINdo6UAwmbWvCrg',\n",
       "   'snippet': \"Get this all-star, easy-to-follow Peach and Blueberry Crumbles recipe from Ina ... I \\njust watched the episode for this recipe but I noticed that she did not say what ... \\nLet's here it for local farm stands! ... It's my new favorite summer baked dessert.\",\n",
       "   'related_links': None,\n",
       "   'title': 'Peach and Blueberry Crumbles Recipe : Ina Garten : Food Network'},\n",
       "  {'url': '/url?q=http://blog.kingarthurflour.com/2015/08/03/summer-fruit-desserts/&sa=U&ved=0ahUKEwi3iJbV54XQAhXBMyYKHcSvAkUQFgjyATA6&usg=AFQjCNFHrxD2-bif7f6NcwJO-Bh1gUGsTA',\n",
       "   'snippet': \"Aug 3, 2015 ... Summer fruit desserts are my favorite part of the season. ... As the fruit bubbles \\nand softens, the sweet dumpling topping slumps down, giving the dessert its \\nname. ... That sounds fantastic  I've never seen a cobbler with a pie crust \\ntopping ... Yupthat's how they make cobblers, here in Virginia, with pie...\",\n",
       "   'related_links': None,\n",
       "   'title': 'Fruit Cobblers, Crisps, Slumps, and More - Flourish - King Arthur Flour'},\n",
       "  {'url': '/url?q=https://www.theguardian.com/lifeandstyle/2013/aug/08/20-dessert-recipes-chocolate-nigella&sa=U&ved=0ahUKEwi3iJbV54XQAhXBMyYKHcSvAkUQFgj2ATA7&usg=AFQjCNGdUgBlzm75MqZpgJirN5uByhKA9Q',\n",
       "   'snippet': \"Aug 8, 2013 ... ... (Ebury, RRP 25). To order a copy for 18.49 with free UK p&p, click here ... It's \\nperfectly sweetened with the white chocolate  a great summer dessert. Serves 6 \\n... Leave the cake to cool for 15 minutes before carefully removing it from the tin. It \\ntastes .... Have you never seen passion fruit? Reply. Share.\",\n",
       "   'related_links': None,\n",
       "   'title': '20 great summer dessert recipes: 16-20 | Life and style | The Guardian'},\n",
       "  {'url': '/url?q=http://www.onceuponachef.com/2015/06/summer-berry-trifle.html&sa=U&ved=0ahUKEwi3iJbV54XQAhXBMyYKHcSvAkUQFgj6ATA8&usg=AFQjCNEx1GZHjWqnYsCzvLLozlhd8qVNgg',\n",
       "   'snippet': \"TESTED & PERFECTED RECIPE  This berry trifle is a wonderful summer \\ndessert  it's simple, gorgeous and you can make it ahead of time.\",\n",
       "   'related_links': None,\n",
       "   'title': 'Best Summer Berry Trifle - Once Upon a Chef'},\n",
       "  {'url': '/url?q=http://www.thekitchn.com/summer-recipe-nobake-strawberry-icebox-cake-117900&sa=U&ved=0ahUKEwi3iJbV54XQAhXBMyYKHcSvAkUQFgj_ATA9&usg=AFQjCNF6XjptQkRJD-pKXH70kA3DcgIvgg',\n",
       "   'snippet': \"... Easy  Fruit  Make Ahead  Mother's Day  Party Food  Recipe  Spring  \\nSummer ... This particular icebox cake is just as simple as it gets, inspired by the \\nbuckets of ... It's chock-full of homemade puddings, fruit jellies, trifles, no-bake \\ncookies, and ... pan as I mention above, or you can build it up on a platter as \\nshown here.\",\n",
       "   'related_links': None,\n",
       "   'title': 'Recipe: No-Bake Strawberry Icebox Cake  Dessert Recipes from ...'},\n",
       "  {'url': '/url?q=https://www.thrillist.com/eat/nation/easy-no-bake-desserts&sa=U&ved=0ahUKEwi3iJbV54XQAhXBMyYKHcSvAkUQFgiEAjA-&usg=AFQjCNGp2JaCrqmzUBbPn9h5er5UNnVUcA',\n",
       "   'snippet': \"Jul 21, 2016 ... 14 Easy No-Bake Summer Desserts ... Just keep them refrigerated until it's time to \\nserve. ... Learn the surprisingly simple recipe here. ... pie we've ever seen -- an \\nassembly of classic ingredients (that you might already have in...\",\n",
       "   'related_links': None,\n",
       "   'title': '14 Easy No-Bake Summer Desserts - Thrillist'},\n",
       "  {'url': '/url?q=http://www.bhg.com/recipes/from-better-homes-and-gardens/&sa=U&ved=0ahUKEwi3iJbV54XQAhXBMyYKHcSvAkUQFgiIAjA_&usg=AFQjCNHA23aTN7SYM3OzkzM8R-6b0QTmjw',\n",
       "   'snippet': \"Using our monthly recipes guide, find a new dessert that promises to become a \\nfamily tradition. ... Summer's here, and it's time to start cooking outside! Our latest\\n...\",\n",
       "   'related_links': None,\n",
       "   'title': 'Recipes from the Magazine - Better Homes and Gardens'},\n",
       "  {'url': '/url?q=http://pinchofyum.com/12-fresh-recipes-for-your-summer-vacation&sa=U&ved=0ahUKEwi3iJbV54XQAhXBMyYKHcSvAkUQFgiMAjBA&usg=AFQjCNFLXmJNClPVpehH9KXbxlUHVKI21Q',\n",
       "   'snippet': 'May 30, 2014 ... Simple and refreshing and perfect for summer. ... that we would have been \\ncooking and eating if we had more time here on our little vacay. Like...',\n",
       "   'related_links': None,\n",
       "   'title': '12 Fresh Recipes for your Summer Vacation - Pinch of Yum'},\n",
       "  {'url': '/url?q=http://thesimple-sweetlife.com/2015/09/01/hashtags-for-food-bloggers/&sa=U&ved=0ahUKEwi3iJbV54XQAhXBMyYKHcSvAkUQFgiRAjBB&usg=AFQjCNGs67FWE4tnIZHdj0HnXh6cHpdIpw',\n",
       "   'snippet': \"Sep 1, 2015 ... Dear lovely readers who are only here for the yums, ... It's also a great platform for \\nsharing your food blog work. ... #summertime 19.4M #autumn 17.6M #\\nmerrychristmas 12.7M ... Peaches and Cream Cake .... a huge difference if you're \\ntrying to get your posts seen, and this post lists some popular hashtags...\",\n",
       "   'related_links': None,\n",
       "   'title': '#Hashtags for Food Bloggers - The Simple, Sweet Life'},\n",
       "  {'url': '/url?q=http://cakescottage.com/2016/05/11/no-bake-summer-berry-icebox-cake/&sa=U&ved=0ahUKEwi3iJbV54XQAhXBMyYKHcSvAkUQFgiWAjBC&usg=AFQjCNHBry3Gtl-wigyID-uc11NkF2jT9g',\n",
       "   'snippet': \"May 11, 2016 ... Looking for a quick and easy Summer dessert recipe? ... fresh berries  since it's \\nfresh berry season, I couldn't resist adding the strawberries ... Place graham \\ncrackers on top of berries, then pudding mixture, then layer of berries again. .... \\nWhen I saw icebox cake I assumed that meant it goes in the freezer.\",\n",
       "   'related_links': None,\n",
       "   'title': 'No Bake Summer Berry Icebox Cake | Cakescottage'},\n",
       "  {'url': '/url?q=http://www.beneathmyheart.net/2012/06/ice-cream-sandwich-delicious-summer-dessert/&sa=U&ved=0ahUKEwi3iJbV54XQAhXBMyYKHcSvAkUQFgibAjBD&usg=AFQjCNGK1tnOtdE7bF7QiRlupOYVbsMpgg',\n",
       "   'snippet': 'Here is a delicious and simple summer dessert using ice cream sandwiches! ... \\nStep Four: Pour a layer of caramel topping on top of the sandwich bars. .... A \\nfriend of ours always makes it for parties & its ALWAYS a hit!! ... My husband \\nwanted to skip dinner an go straight for the dessert when he saw what I was \\nmaking.',\n",
       "   'related_links': None,\n",
       "   'title': 'Ice Cream Sandwich {Delicious Summer Dessert!} - Beneath My Heart'},\n",
       "  {'url': '/url?q=http://aseasyasapplepie.com/berry-cheesecake-parfaits/&sa=U&ved=0ahUKEwi3iJbV54XQAhXBMyYKHcSvAkUQFgifAjBE&usg=AFQjCNHXvOybEsVY1hASfDpIBDxqG37dOA',\n",
       "   'snippet': \"Jun 18, 2016 ... Are you looking for a quick, easy, and no-bake summer dessert? Try these ... It's \\nnot healthy but definitely lighter than a traditional cheesecake. ... Here you will \\nfind easy and delicious recipes made from scratch. ... as seen on:...\",\n",
       "   'related_links': None,\n",
       "   'title': 'Berry Cheesecake Parfaits - As Easy As Apple Pie'},\n",
       "  {'url': '/url?q=http://bembu.com/healthy-dessert-recipes&sa=U&ved=0ahUKEwi3iJbV54XQAhXBMyYKHcSvAkUQFgikAjBF&usg=AFQjCNGSX6qyRMDcJLnp96ESOG4qo-Hmpg',\n",
       "   'snippet': \"50 Healthy Dessert Recipes- satisfy your sweet tooth without the guilt. ... They're \\nkeeping the ingredients simple, and using a microwave to get it under the ... have \\nyou thinking about breakfast here, and this parfait is a great anytime dessert. ... \\nThis is one donut you don't have to walk away from, since it's never seen a fryer,...\",\n",
       "   'related_links': None,\n",
       "   'title': '50 Healthy Dessert Recipes to Satisfy Your Sweet Tooth - Bembu'},\n",
       "  {'url': '/url?q=http://www.nordljus.co.uk/en/perry-jelly-and-summer-berries-with-elderflower-mousse&sa=U&ved=0ahUKEwi3iJbV54XQAhXBMyYKHcSvAkUQFgioAjBG&usg=AFQjCNEiu3KdC1csL_MKQ-G23vwDeWeC3A',\n",
       "   'snippet': \"Jul 9, 2007 ... We've had the most disappointing weather this summer  it's been cold and wet, \\n... In the programme, he was serving it with some deep-fried elderflower on top, \\nbut when I made this the .... It is the most beautiful summer dessert I have ever \\nseen. ... We are ending our summer here and approaching rainy...\",\n",
       "   'related_links': None,\n",
       "   'title': 'Nordljus: Perry Jelly and Summer Berries with Elderflower Mousse'},\n",
       "  {'url': '/url?q=http://www.practicallyfunctional.com/summer-peach-blueberry-trifle-recipe/&sa=U&ved=0ahUKEwi3iJbV54XQAhXBMyYKHcSvAkUQFgitAjBH&usg=AFQjCNGrNdaRslpmnHnfMwZu8h0krWQyFw',\n",
       "   'snippet': \"Jul 5, 2016 ... This summer peach blueberry trifle is the perfect summer dessert, ... (Err on the \\nside of thinner slices and smaller cubes here; you need a lot of cake to make the \\nlayers ... any large bowl will do; it's just prettier in something made of glass! ... Top \\nwith a layer of peaches (about 1/3), and then add another layer...\",\n",
       "   'related_links': None,\n",
       "   'title': 'Summer Peach Blueberry Trifle Recipe - Practically Functional'},\n",
       "  {'url': '/url?q=https://en.wikipedia.org/wiki/Mojave_Desert&sa=U&ved=0ahUKEwi3iJbV54XQAhXBMyYKHcSvAkUQFgizAjBI&usg=AFQjCNEolhK94ssN2xP60itbnI2Zvw4Erw',\n",
       "   'snippet': 'The Mojave Desert is an arid rain-shadow desert and the driest desert in North \\nAmerica. ... Its boundaries are generally noted by the presence of Joshua trees, \\nwhich are native only to the Mojave Desert and are ... The Mojave Desert \\ndisplays typical basin and range topography. ... Summer weather is dominated by \\nheat.',\n",
       "   'related_links': None,\n",
       "   'title': 'Mojave Desert - Wikipedia'},\n",
       "  {'url': '/url?q=http://hip2save.com/2015/06/25/campfire-cones-fun-easy-summer-dessert/&sa=U&ved=0ahUKEwi3iJbV54XQAhXBMyYKHcSvAkUQFgi3AjBJ&usg=AFQjCNH7UVhsWe-mHKwdu1x2JWziMZ15PA',\n",
       "   'snippet': \"Jun 25, 2015 ... Gooey marshmallow-filled campfire cones are a fun twist to a traditional S'more \\nand can be customized with endless possibilities! So grab a...\",\n",
       "   'related_links': None,\n",
       "   'title': 'Campfire Cones (Fun & Easy Summer Dessert)  Hip2Save'},\n",
       "  {'url': '/url?q=http://cookieandkate.com/2015/blueberry-almond-crisp/&sa=U&ved=0ahUKEwi3iJbV54XQAhXBMyYKHcSvAkUQFgi8AjBK&usg=AFQjCNEiJUCEZzfmob7JYKIirApfbD930Q',\n",
       "   'snippet': \"Aug 3, 2015 ... It's easy to make with blueberries, maple syrup, lemon, oats and almonds. Gluten \\n... Blueberry almond crisp, a simple summertime dessert! Print.\",\n",
       "   'related_links': None,\n",
       "   'title': 'Blueberry Almond Crisp Recipe - Cookie and Kate'},\n",
       "  {'url': '/url?q=http://www.fifteenspatulas.com/cheesecake-twist-stuffed-strawberries/&sa=U&ved=0ahUKEwi3iJbV54XQAhXBMyYKHcSvAkUQFgjCAjBL&usg=AFQjCNH-OI40eY0WA3c5c4QrQAjj0Nebsw',\n",
       "   'snippet': \"Jun 21, 2013 ... Basically it's just a cheesecake filling (cream cheese mixed with flavorings and ... \\nflooding the grocery stores, these are a great summer dessert to make. ... I've \\nseen people top the cream cheese filling with graham cracker crumbs, ... Here's a \\nvideo where I show you how to get that twisting motion just right:...\",\n",
       "   'related_links': None,\n",
       "   'title': 'Cheesecake Twist Stuffed Strawberries  Fifteen Spatulas'},\n",
       "  {'url': '/url?q=http://www.buzzfeed.com/rachelysanders/amazing-gluten-free-desserts-for-valentines-day&sa=U&ved=0ahUKEwi3iJbV54XQAhXBMyYKHcSvAkUQFgjHAjBM&usg=AFQjCNElgX0-nLXlO28TFV4NeZd_9m4OWQ',\n",
       "   'snippet': 'Feb 12, 2013 ... Smart use of coconut to form the base layer here. Get the recipe here. ... Use your \\nfavorite gluten-free flour mix in this recipe. ID: 879253...',\n",
       "   'related_links': None,\n",
       "   'title': '33 Amazing Gluten-Free Desserts - BuzzFeed'},\n",
       "  {'url': '/url?q=http://www.wholefoodsmarket.com/recipes&sa=U&ved=0ahUKEwi3iJbV54XQAhXBMyYKHcSvAkUQFgjMAjBN&usg=AFQjCNGUd1mSSOkbMlM6mbNzilwk_breCQ',\n",
       "   'snippet': 'Get the Recipe. Prev Next. Advanced Search ... Recipes. Featured  Top Rated  \\nNewest  Honey Butter-Apple Cake .... Popular Recipes. Beer Cocktails  Burgers\\n...',\n",
       "   'related_links': None,\n",
       "   'title': 'Recipes | Whole Foods Market'},\n",
       "  {'url': '/url?q=http://minimalistbaker.com/gluten-free-strawberry-nectarine-crisp/&sa=U&ved=0ahUKEwi3iJbV54XQAhXBMyYKHcSvAkUQFgjQAjBO&usg=AFQjCNF8LqfXiTOZlVLysH5SHcqejFLzHQ',\n",
       "   'snippet': \"A simple summer crisp with strawberries and nectarines, and a hearty, ... And it's \\ntopped with a seriously nutty, not-too-sweet gluten-free crisp that is ... As the \\noriginal recipe noted, blueberries are kind of perfect here. .... I have never seen \\none of my all-time favorite desserts presented in such an elegant, minimalist way\\n\",\n",
       "   'related_links': None,\n",
       "   'title': 'Gluten Free Strawberry Nectarine Crisp | Minimalist Baker Recipes'},\n",
       "  {'url': '/url?q=https://backpackerlee.wordpress.com/2015/05/09/23-asian-desserts-you-must-try-before-you-die/&sa=U&ved=0ahUKEwi3iJbV54XQAhXBMyYKHcSvAkUQFgjVAjBP&usg=AFQjCNFDQoY-eUaxKrjr9sRbnNuH1r6wLA',\n",
       "   'snippet': \"May 9, 2015 ... It's not all about glutinous rice and bananas! ... Interestingly, there are 4 desserts \\nincluded here from both Japan and Thailand! ... Kakigri is a Japanese \\nsummertime dessert flavoured with syrup ... This has now became one of \\nThailand's most popular desserts and ..... Most viewed posts in the past 12 hours.\",\n",
       "   'related_links': None,\n",
       "   'title': '23 Asian Desserts you MUST try before you die!  backpackerlee'},\n",
       "  {'url': '/url?q=http://paleogrubs.com/dessert-recipes&sa=U&ved=0ahUKEwi3iJbV54XQAhXBMyYKHcSvAkUQFgjaAjBQ&usg=AFQjCNGusS2bIiCJ6S9i4COwQikpMWjQCw',\n",
       "   'snippet': \"It's not just any sugar used here, but coconut palm sugar, a naturally sweet \\nsource ... time we've seen angel food cake in mini form, and by popping a \\nraspberry on top .... This makes for a great summertime dessert, and a good \\nanytime dessert...\",\n",
       "   'related_links': None,\n",
       "   'title': '47 Paleo Desserts to Satisfy Any Sweet Tooth | Paleo Grubs'},\n",
       "  {'url': '/url?q=https://www.kcet.org/socal-wanderer/7-of-the-best-california-desert-summer-campgrounds&sa=U&ved=0ahUKEwi3iJbV54XQAhXBMyYKHcSvAkUQFgjeAjBR&usg=AFQjCNGt0TUJEDsCEU920zZKbarqI2l5FA',\n",
       "   'snippet': \"Jun 27, 2013 ... Yes, you can go camping in the desert in the summer. ... Desert mixes with Sierra \\nNevada and Coast Ranges here: you can ... Even if it's relatively inoffensive, it's a \\nfavorite spot for gatherings of the ... The other school of thought agrees, but adds \\nwistfully that you should have seen it before the summer of...\",\n",
       "   'related_links': None,\n",
       "   'title': '7 of the Best California Desert Summer Campgrounds | KCET'},\n",
       "  {'url': '/url?q=http://www.browneyedbaker.com/no-bake-banana-split-cake-dessert/&sa=U&ved=0ahUKEwi3iJbV54XQAhXBMyYKHcSvAkUQFgjiAjBS&usg=AFQjCNGTrWtNVpdUq_0zdEhBPYsImzajpg',\n",
       "   'snippet': \"Mar 7, 2016 ... No-Bake Banana Split Dessert - Graham cracker crust, cream ... it perfect for the \\nsummer when you don't want to heat up the kitchen, and ... Note: If you would \\nprefer not to use Cool Whip, you can use fresh whipped cream in its place, .... like \\nthis dessert here, but I hate it, knowing in the long run, it's probably...\",\n",
       "   'related_links': None,\n",
       "   'title': 'No-Bake Banana Split Cake Dessert - Brown Eyed Baker'},\n",
       "  {'url': '/url?q=https://www.dramafever.com/news/the-10-desserts-that-only-exist-in-korea/&sa=U&ved=0ahUKEwi3iJbV54XQAhXBMyYKHcSvAkUQFgjnAjBT&usg=AFQjCNEZ9z66ZNYIp5hXbhIEMasvUlfO4w',\n",
       "   'snippet': \"Sep 23, 2015 ... Here we have the top 10 desserts that only exist in Korea. There are traditional ... \\nBing Su Shaved ice dessert bing-su () is Koreans' summer staple. Originally \\nfeatured ... Kim Soo Hyun's Cafe Bene is popular for its honey breads. Learn how \\nto .... I seen melona in china town in Buenos Aires, Argentina.\",\n",
       "   'related_links': None,\n",
       "   'title': '10 Delicious desserts that only exist In Korea - DramaFever'},\n",
       "  {'url': '/url?q=http://blog.junbelen.com/2010/05/25/purple-yam-why-filipinos-love-purple-sweet-treats/&sa=U&ved=0ahUKEwi3iJbV54XQAhXBMyYKHcSvAkUQFgjrAjBU&usg=AFQjCNHM2gYqBaUn_oDWE1q0LbnrAuFhRg',\n",
       "   'snippet': \"May 25, 2010 ... He had never seen and tasted anything like it before. Ube Cake ... Here's a link \\nthat has information about its health benefits: http://healthyeating.sfgate.co.... I \\nhope this helps. ... I've always liked the cake and it so happens thats its my \\nfavorite color! .... Halo-halo and calamansi juice in the summertime.\",\n",
       "   'related_links': None,\n",
       "   'title': 'Ube, the Purple Yam: Why Filipinos Love Purple Sweet Treats ...'},\n",
       "  {'url': '/url?q=http://sugarapron.com/2015/05/27/pineapple-delight-dessert/&sa=U&ved=0ahUKEwi3iJbV54XQAhXBMyYKHcSvAkUQFgjwAjBV&usg=AFQjCNFpINAq9cMqOTIuH150dznpVV-VoQ',\n",
       "   'snippet': \"May 27, 2015 ... Are you looking for the perfect dessert for a summer family reunion or pot luck ? ... \\ndays, and for the weekend 90s announced ! so I guess it's safe to say that \\nsummer is officially here! ... But all of you will agree on one thing anything that \\ncan be kept cool like uh ..... I knew it the sec I saw your photograph.\",\n",
       "   'related_links': None,\n",
       "   'title': 'Pineapple Delight Dessert - Sugar Apron'},\n",
       "  {'url': '/url?q=http://kitchenmeetsgirl.com/strawberry-cheesecake-lush/&sa=U&ved=0ahUKEwi3iJbV54XQAhXBMyYKHcSvAkUQFgj1AjBW&usg=AFQjCNGyGwkxiZCULIHDAokWAyjMAEcQTQ',\n",
       "   'snippet': \"Jun 8, 2014 ... With layers of cream cheese, Cool Whip, cheesecake pudding and ... but since \\nit's summer and I like to add fruit to my desserts, I decided to ..... My recipe printed \\noff with 2 packages of 1.4 oz size pudding..the only thing we have here is a ... \\nthat it prints differently, glad I came back to the site and saw that.\",\n",
       "   'related_links': None,\n",
       "   'title': 'Strawberry Cheesecake Lush - Kitchen Meets Girl'},\n",
       "  {'url': '/url?q=http://www.recipegirl.com/2009/07/30/frozen-caramel-toffee-ice-cream-sandwich-dessert-great-summer-dessert-for-a-crowd/&sa=U&ved=0ahUKEwi3iJbV54XQAhXBMyYKHcSvAkUQFgj6AjBX&usg=AFQjCNGjhHqlVgufsF9O46yrvwbktpGH2g',\n",
       "   'snippet': \"Jul 30, 2009 ... I'm not a big fan of Cool Whip or any packaged, ready-to-eat foods. 2. ... Guests \\nasked about how to make it it and you should have seen the looks of \\namazement ... It's worth it! This recipe can be found here: Frozen Caramel Toffee \\nIce Cream Dessert ... Other delicious frozen summer desserts on the blogs:\",\n",
       "   'related_links': None,\n",
       "   'title': 'Easy Frozen Dessert Recipe - RecipeGirl'},\n",
       "  {'url': '/url?q=http://faq.ph/top-filipino-foods-for-summer/&sa=U&ved=0ahUKEwi3iJbV54XQAhXBMyYKHcSvAkUQFgj_AjBY&usg=AFQjCNHvF5kuP9S-Vt4vk3_xfHCvNL2eEA',\n",
       "   'snippet': 'Apr 9, 2015 ... Here are 12 Filipino foods and drinks that will help you stay cool this summer. ... \\nThis tropical fruit which can be seen everywhere in the Philippines ... of Halo-halo\\n, Leche Flan may also be served as a dessert on its own.',\n",
       "   'related_links': None,\n",
       "   'title': 'Top 12 Filipino Foods for the Summer, and How to Make Them ...'},\n",
       "  {'url': '/url?q=http://www.simplyrecipes.com/recipes/peach_galette/&sa=U&ved=0ahUKEwi3iJbV54XQAhXBMyYKHcSvAkUQFgiEAzBZ&usg=AFQjCNGzMujs3_uowXXKsP2CODbvLhkDzw',\n",
       "   'snippet': \"Have you seen the peaches in the market? They're ... One of my favorite summer \\ndesserts is a rustic tart, or galette, because it's just so easy to put together. .... \\nHere are some extra tips that I thought I'd pass along  things I wish I'd known. 1.\",\n",
       "   'related_links': None,\n",
       "   'title': 'Peach Galette Recipe | SimplyRecipes.com'},\n",
       "  {'url': '/url?q=http://happyhooligans.ca/easy-rhubarb-scratch-cake-summer-dessert/&sa=U&ved=0ahUKEwi3iJbV54XQAhXBMyYKHcSvAkUQFgiJAzBa&usg=AFQjCNEtoN0TcNrpPJN75UAu03gj4zZHjA',\n",
       "   'snippet': \"Jul 3, 2015 ... This easy Rhubarb scratch cake is perfect as a summer dessert or for coffee \\nbreak. Served warm with whipped cream or ice cream, it's absolutely delicious! ... \\nI popped it into the ground beside our toolshed, and I watched it kind of ... \\nrhubarb recipes  a simple, homemade, from-scratch rhubarb cake that's...\",\n",
       "   'related_links': None,\n",
       "   'title': 'Easy Rhubarb Scratch Cake - Happy Hooligans'},\n",
       "  {'url': '/url?q=http://www.maangchi.com/recipe/patbingsu&sa=U&ved=0ahUKEwi3iJbV54XQAhXBMyYKHcSvAkUQFgiOAzBb&usg=AFQjCNHC1hDovomWph-GNV0lQ2ILJLVMOg',\n",
       "   'snippet': \"Jun 1, 2011 ... Patbingsu is one of the most popular summer desserts or snacks in Korea. ... I \\nwas very happy when I saw their excitement. ... I was supposed to make 1 video \\nduring the camp, so I thought patbingsu was a good choice because it's seasonal\\n, refreshing, ... Here is the recipe for a much smaller portion.\",\n",
       "   'related_links': None,\n",
       "   'title': 'Patbingsu (Shaved ice with sweet red beans and fruit) recipe ...'},\n",
       "  {'url': '/url?q=http://www.bakersroyale.com/&sa=U&ved=0ahUKEwi3iJbV54XQAhXBMyYKHcSvAkUQFgiTAzBc&usg=AFQjCNE-v-M2LCddTeEjRZAsqjknDLoGWw',\n",
       "   'snippet': \"Bakers Royale is a baking blog with hundreds of dessert recipes and savory bites \\nfor all your ... I don't know about you, but Halloween is a favorite holiday in my \\nfamily. ... It's fruity, with just the right balance of sweet and salty, most ... This \\nlatest biscuit recipe was a discovery on one of our summer trips at a truck stop,\",\n",
       "   'related_links': None,\n",
       "   'title': 'BakersRoyale - A baking blog with dessert and savory recipes'},\n",
       "  {'url': '/url?q=https://cakejournal.com/&sa=U&ved=0ahUKEwi3iJbV54XQAhXBMyYKHcSvAkUQFgiXAzBd&usg=AFQjCNFVJMh6pRKMOVD-vptjdq5nUJzKvw',\n",
       "   'snippet': \"This time of year calls for desserts, candy, chocolate and sweets! And here on \\nCakeJournal we have the  [read more...] ... The little ones will love nothing \\nmore than seeing their absolute favorite movie on their  [read more...] ... It's \\nsummer in my neck of the woods, and that means swimming, swimming, \\nswimming! My kids...\",\n",
       "   'related_links': None,\n",
       "   'title': 'Cake Journal  Cake Decorating Ideas, Cupcake Designs, and Other ...'},\n",
       "  {'url': '/url?q=http://www.fireflyforest.com/flowers/&sa=U&ved=0ahUKEwi3iJbV54XQAhXBMyYKHcSvAkUQFgiaAzBe&usg=AFQjCNFWXwz4kuiGWs4GhB5Rh8lRbTDCPA',\n",
       "   'snippet': 'An identification guide to southeastern Arizona and Sonoran Desert ... \\nSoutheastern Arizona has an unusually wide variety of plants due to its climate, \\nvaried ... Autumn wildflowers will begin blooming here in October as the weather \\ncools a ... cooler in the mountains, making them a popular summer retreat for \\narea residents,...',\n",
       "   'related_links': None,\n",
       "   'title': 'Southeastern Arizona Wildflowers and Plants - An identification ...'},\n",
       "  {'url': '/url?q=http://www.blogilates.com/blog/2015/06/19/easy-healthy-summer-desserts/&sa=U&ved=0ahUKEwi3iJbV54XQAhXBMyYKHcSvAkUQFgieAzBf&usg=AFQjCNGpfWLiMLIquTah95m8aZteWtVgiA',\n",
       "   'snippet': \"Jun 19, 2015 ... This Sunday marks the beginning of summer and it's Father's Day too! So watch \\n... PB & J Fro-Yo Sundae Recipe (makes 2 servings). Ingredients: ... This looks \\nsooo good I almost CRIED when I saw the picture!! ... I would probably top mine \\nwith my all time fave, Walden Farms Calorie Free Caramel Syrup.\",\n",
       "   'related_links': None,\n",
       "   'title': 'Easy, Healthy, Summer Desserts! | - Blogilates'},\n",
       "  {'url': '/url?q=http://foodfunfamily.com/delicious-dishes-recipe-party-30/&sa=U&ved=0ahUKEwi3iJbV54XQAhXBMyYKHcSvAkUQFgijAzBg&usg=AFQjCNEcUcg7gxmTAFXjGXUB26YtGvexCg',\n",
       "   'snippet': \"Aug 2, 2016 ... I can't believe that it's August! Now that ... Delicious Dishes Recipe Party #30 {\\nFavorite Summer Dessert Recipes}. Tuesday ... Each link you share here will be \\nseen on each of the hostess' blogs listed below >>. Food Fun...\",\n",
       "   'related_links': None,\n",
       "   'title': 'Delicious Dishes Recipe Party #30 {Favorite Summer Dessert ...'},\n",
       "  {'url': '/url?q=http://www.restaurantgirl.com/new-yorks-best-summer-desserts.html&sa=U&ved=0ahUKEwi3iJbV54XQAhXBMyYKHcSvAkUQFginAzBh&usg=AFQjCNEh2iNIhaQOtE_uYgyC7Me-5leAUQ',\n",
       "   'snippet': \"Aug 17, 2012 ... Where dessert is concerned, summer might just be our favorite time of year ... It's \\na refreshing mix of Cucumber and Mint ice cream with Citrusy ... from the \\nGreenmarket (we've seen everything from blueberries to strawberries, even \\npineapple on top). .... I loved as much as you'll receive carried out right here.\",\n",
       "   'related_links': None,\n",
       "   'title': \"New York's Best Summer Desserts - Restaurant Girl\"},\n",
       "  {'url': '/url?q=http://www.eatlivetravelwrite.com/2011/07/easy-summer-dessert-eton-mess-for-forever-nigella-7-iced-dreams/&sa=U&ved=0ahUKEwi3iJbV54XQAhXBMyYKHcSvAkUQFgisAzBi&usg=AFQjCNEyjObCRKBcKC3zM5UAwm-42VSaSA',\n",
       "   'snippet': \"Jul 6, 2011 ... According to Wikipedia, Eton Mess is a traditional English dessert consisting of a \\nmixture of strawberries, ... Nigella has a recipe but it's hardly necessary. But for \\nthose of you new to the Mess, here you go .... as many times as i've seen eton \\nmess on the blogsand as much of a nigella fan as i amyou'd...\",\n",
       "   'related_links': None,\n",
       "   'title': 'Easy summer dessert: Eton mess for Forever Nigella 7 (Iced dreams ...'},\n",
       "  {'url': '/url?q=http://blog.potterybarn.com/strawberry-cream-cheese-tart/&sa=U&ved=0ahUKEwi3iJbV54XQAhXBMyYKHcSvAkUQFgixAzBj&usg=AFQjCNERqENjD4FGQ4jNuVCYrtSnseNnQA',\n",
       "   'snippet': \"Jun 6, 2014 ... The best summer desserts combine everything we love about the season ... \\nblend in this cool and creamy tart from Two of a Kind, seen here with our Lia ... \\nYou will have extra curd after making the tart, but it's delicious spread...\",\n",
       "   'related_links': None,\n",
       "   'title': 'Sweet Summer Desserts: Strawberry Cream Cheese Tart  Pottery ...'},\n",
       "  {'url': '/url?q=http://www.vogue.com/13296056/joshua-tree-letter-lily-stockman-summer-nights/&sa=U&ved=0ahUKEwi3iJbV54XQAhXBMyYKHcSvAkUQFgi1AzBk&usg=AFQjCNF_uo2Z4G5w3-205qsaL4Qa8ShC0A',\n",
       "   'snippet': 'Aug 19, 2015 ... Summer can be a hard time of year to love the Mojave Desert unconditionally. ... \\nand a coyote and raven are squabbling over its unspooled insides. From here the \\nknot of thrashing scales and feathers and bared teeth looks like a down-at-the-\\nheels .... Summer sunset over Little Flat Top, behind the cabin.',\n",
       "   'related_links': None,\n",
       "   'title': 'Letter from Joshua Tree: Summer Nights in the High Desert - Vogue'},\n",
       "  {'url': '/url?q=http://www.sainsburys.co.uk/shop/gb/groceries/find-recipes/recipes/cold-desserts&sa=U&ved=0ahUKEwi3iJbV54XQAhXBMyYKHcSvAkUQFgi6AzBl&usg=AFQjCNEaWqArL8vqH-8XZSZFPl-MduXTSw',\n",
       "   'snippet': \"Browse delicious cold dessert recipes from Sainsbury's online, including ... Fly \\nthe flag with this zesty, summer berry cheesecake, it's easy to make with no ... \\nThumbnail image for Choc-top banana smoothie pops recipe on Sainsbury's \\nOnline .... from our Scottish stores may differ from those shown when browsing \\nour site.\",\n",
       "   'related_links': None,\n",
       "   'title': \"Cold desserts | Sainsbury's\"},\n",
       "  {'url': '/url?q=http://pinkthetown.com/the-cutest-summer-dessert-ideas/&sa=U&ved=0ahUKEwi3iJbV54XQAhXBMyYKHcSvAkUQFgi-AzBm&usg=AFQjCNHgLbkJr5QWTQBSIDqSAgFL0iAFcA',\n",
       "   'snippet': \"Aug 15, 2014 ... Today marks the beginning of August, and it's now officially time to start \\nsqueezing every ... An easy and delicious way to cool down on a hot, summer \\nday. 2. Ice Cream Cone Cake  Perhaps the cutest cake idea we've ever seen. ... \\nDetails here: http://pinkthetown.com/pink-grey/ Chicwish #fashion #style.\",\n",
       "   'related_links': None,\n",
       "   'title': 'The Cutest Summer Dessert Ideas | Pink the Town'},\n",
       "  {'url': '/url?q=https://barefootcontessa.com/inas-world&sa=U&ved=0ahUKEwi3iJbV54XQAhXBMyYKHcSvAkUQFgjCAzBn&usg=AFQjCNHIxLXgRDMYkGByFg3fZDASit3Mew',\n",
       "   'snippet': \"It's filled with lots of Jeffrey's favorite recipes, like Maple Roasted Carrot Salad, \\nSkillet ... The Maple-Roasted Carrot Salad in Cooking for Jeffrey is truly one of my \\nfavorite salads! I love ... Chocolate Cake for Dad ... Late Summer in the Garden.\",\n",
       "   'related_links': None,\n",
       "   'title': \"Ina's World Main Page | Barefoot Contessa\"},\n",
       "  {'url': '/url?q=http://www.californiadriving.com/desert-driving/&sa=U&ved=0ahUKEwi3iJbV54XQAhXBMyYKHcSvAkUQFgjFAzBo&usg=AFQjCNEJOlxM9oLM8o3Vx7eB9TtFMOp3Ww',\n",
       "   'snippet': \"Compared to driving through the typical Australian, African, or Asian deserts, \\ntouring ... Maybe a third of California is desert, but it's not necessarily the sort of \\ndesert ... But way off the beaten track, the deserts here are still wild and \\ndangerous, ... If you're not used to high temperatures, don't drive through the \\ndesert in summer.\",\n",
       "   'related_links': None,\n",
       "   'title': 'Desert Driving - California Driving: A Survival Guide'},\n",
       "  {'url': '/url?q=http://www.brit.co/graham-cracker/&sa=U&ved=0ahUKEwi3iJbV54XQAhXBMyYKHcSvAkUQFgjJAzBp&usg=AFQjCNF3qBhaD4iF2G8b_5EZter5c9S4cw',\n",
       "   'snippet': \"Jun 7, 2014 ... But since everything is better when it's taken to the next level, we're bringing you \\n19 ... Get in the mood for those summer cookouts with graham crackers in every \\nform ... See the humble graham like you've never seen it before. ... your toast in \\ngraham cracker crumbs and top with marshmallow and chocolate.\",\n",
       "   'related_links': None,\n",
       "   'title': 'Take Graham Crackers to The Next Level With These 19 Recipes ...'},\n",
       "  {'url': '/url?q=http://www.npr.org/sections/thesalt/2016/08/10/489217423/water-ice-phillys-classic-summer-cooler-gets-hot-across-the-country&sa=U&ved=0ahUKEwi3iJbV54XQAhXBMyYKHcSvAkUQFgjOAzBq&usg=AFQjCNG8zvXI7IlMbDK-NG2zbB_35x9TCA',\n",
       "   'snippet': \"Aug 10, 2016 ... This classic Philadelphia dessert used to be hard to find outside the city. ... Water \\nice, better known as Italian ice, is an iconic summer treat in the ... It's a frozen treat \\nmade from water, sugar and some sort of flavoring  usually fruit. ... If there were \\nshops selling water ice in those cities, I never saw them.\",\n",
       "   'related_links': None,\n",
       "   'title': \"Water Ice, Philly's Classic Summer Cooler, Gets Hot Across The ...\"}],\n",
       " 'air_date': '2007-10-31',\n",
       " 'question': \"It's the popular summertime dessert seen here\",\n",
       " 'value': '$400',\n",
       " 'id': 209667,\n",
       " 'answer': 'strawberry shortcake',\n",
       " 'round': 'Jeopardy!',\n",
       " 'show_number': '5323'}"
      ]
     },
     "execution_count": 9,
     "metadata": {},
     "output_type": "execute_result"
    }
   ],
   "source": [
    "combined_data_val[2]"
   ]
  },
  {
   "cell_type": "code",
   "execution_count": 10,
   "metadata": {},
   "outputs": [],
   "source": [
    "from collections import defaultdict"
   ]
  },
  {
   "cell_type": "markdown",
   "metadata": {},
   "source": [
    "BASIC_ANALYSIS"
   ]
  },
  {
   "cell_type": "code",
   "execution_count": 11,
   "metadata": {},
   "outputs": [],
   "source": [
    "def print_basic_analysis(data):\n",
    "    d = defaultdict(lambda: 0)\n",
    "    vocabulary = defaultdict(lambda: 0)\n",
    "    j = len(data)\n",
    "    for i in range(j):\n",
    "        k = len(data[i]['answer'].split())\n",
    "        d[k] += 1\n",
    "    print(\"Number of examples are: \", len(data))\n",
    "    print(\"Number of unigram answers is: \", d[1])\n",
    "    print(\"Percentage of unigram answers: \", d[1] / sum(d.values()))\n",
    "    average_snippets = 0\n",
    "    average_snippets_length = 0\n",
    "    for i in range(j):\n",
    "        current_length = len(data[i]['search_results'])\n",
    "        for k in range(current_length):\n",
    "            if(data[i]['search_results'][k]['snippet'] is not None and len(data[i]['search_results'][k]['snippet']) > 0):\n",
    "                average_snippets += 1\n",
    "                average_snippets_length += len(data[i]['search_results'][k]['snippet'].split())\n",
    "    average_snippets_length = average_snippets_length / average_snippets\n",
    "    average_snippets = average_snippets / sum(d.values())\n",
    "    print(\"Number of average snippets: \", average_snippets)\n",
    "    print(\"Average snippet length(split on whitespace): \", average_snippets_length)\n",
    "    average_answer_length = 0\n",
    "    for key in d.keys():\n",
    "        average_answer_length += key * d[key]\n",
    "    average_answer_length = average_answer_length / sum(d.values())\n",
    "    print(\"Average answer length: \", average_answer_length)"
   ]
  },
  {
   "cell_type": "code",
   "execution_count": 12,
   "metadata": {},
   "outputs": [
    {
     "name": "stdout",
     "output_type": "stream",
     "text": [
      "Number of examples are:  21613\n",
      "Number of unigram answers is:  9317\n",
      "Percentage of unigram answers:  0.43108314440383105\n",
      "Number of average snippets:  63.00601489844075\n",
      "Average snippet length(split on whitespace):  50.158391891604104\n",
      "Average answer length:  1.8846990237357146\n"
     ]
    }
   ],
   "source": [
    "print_basic_analysis(combined_data_val)"
   ]
  },
  {
   "cell_type": "code",
   "execution_count": 13,
   "metadata": {},
   "outputs": [
    {
     "name": "stdout",
     "output_type": "stream",
     "text": [
      "Number of examples are:  43228\n",
      "Number of unigram answers is:  18698\n",
      "Percentage of unigram answers:  0.4325437216618858\n",
      "Number of average snippets:  62.890510780049965\n",
      "Average snippet length(split on whitespace):  49.48185097573006\n",
      "Average answer length:  1.869436476357916\n"
     ]
    }
   ],
   "source": [
    "print_basic_analysis(combined_data_test)"
   ]
  },
  {
   "cell_type": "code",
   "execution_count": 14,
   "metadata": {},
   "outputs": [
    {
     "name": "stderr",
     "output_type": "stream",
     "text": [
      "272634it [00:12, 22085.00it/s]"
     ]
    },
    {
     "name": "stdout",
     "output_type": "stream",
     "text": [
      "272634\n"
     ]
    },
    {
     "name": "stderr",
     "output_type": "stream",
     "text": [
      "\n"
     ]
    }
   ],
   "source": [
    "# Open the JSONL file\n",
    "eli5 = []\n",
    "with open('ELI5-001.jsonl', 'r') as f:\n",
    "    # Read each line (JSON object) in the file\n",
    "    for line in tqdm(f):\n",
    "        # Parse JSON object\n",
    "        eli5.append(json.loads(line))\n",
    "        # Process the JSON data as needed\n",
    "    print(len(eli5))  # Example: print the JSON data\n"
   ]
  },
  {
   "cell_type": "code",
   "execution_count": null,
   "metadata": {},
   "outputs": [],
   "source": [
    "# eli5[0]"
   ]
  },
  {
   "cell_type": "code",
   "execution_count": 15,
   "metadata": {},
   "outputs": [],
   "source": [
    "def getnumberofwords(text):\n",
    "    # return len(text.split())\n",
    "    return len(word_tokenize(text))"
   ]
  },
  {
   "cell_type": "code",
   "execution_count": 16,
   "metadata": {},
   "outputs": [],
   "source": [
    "def eli5_analysis():\n",
    "    j = len(eli5)\n",
    "    answer_lengths = 0\n",
    "    number_of_answers = 0\n",
    "    question_lengths = 0\n",
    "    question_lengths_list = []\n",
    "    for i in tqdm(range(j)):\n",
    "        question_lengths_list.append(getnumberofwords(eli5[i]['question']))\n",
    "        question_lengths += getnumberofwords(eli5[i]['question'])\n",
    "        j2 = len(eli5[i]['answers'])\n",
    "        for i2 in range(j2):\n",
    "            answer_lengths += getnumberofwords(eli5[i]['answers'][i2])\n",
    "            number_of_answers += 1\n",
    "    print(\"Average number of words in questions: \", question_lengths / j)\n",
    "    print(\"Average number of words in answers: \", answer_lengths / number_of_answers)\n",
    "\n",
    "    plt.hist(question_lengths_list, bins=50, edgecolor='black')\n",
    "    plt.xlabel('Value')\n",
    "    plt.ylabel('Frequency')\n",
    "    plt.title('Histogram')\n",
    "    plt.grid(True)\n",
    "    plt.show()\n",
    "\n",
    "    "
   ]
  },
  {
   "cell_type": "code",
   "execution_count": 17,
   "metadata": {},
   "outputs": [
    {
     "name": "stderr",
     "output_type": "stream",
     "text": [
      "100%|██████████| 272634/272634 [05:45<00:00, 789.52it/s] \n"
     ]
    },
    {
     "name": "stdout",
     "output_type": "stream",
     "text": [
      "Average number of words in questions:  15.781182831194934\n",
      "Average number of words in answers:  121.65526183621003\n"
     ]
    },
    {
     "data": {
      "image/png": "[encoded data removed]",
      "text/plain": [
       "<Figure size 640x480 with 1 Axes>"
      ]
     },
     "metadata": {},
     "output_type": "display_data"
    }
   ],
   "source": [
    "eli5_analysis()"
   ]
  },
  {
   "cell_type": "code",
   "execution_count": 18,
   "metadata": {},
   "outputs": [
    {
     "name": "stdout",
     "output_type": "stream",
     "text": [
      "Why are different tiers (regular < mid < premium) of gas' prices almost always 10 cents different?\n",
      "21\n"
     ]
    }
   ],
   "source": [
    "i = 1\n",
    "print(eli5[i]['question'])\n",
    "print(getnumberofwords(eli5[i]['question']))"
   ]
  },
  {
   "cell_type": "code",
   "execution_count": 6,
   "metadata": {},
   "outputs": [],
   "source": [
    "def load_model(type_of_model, dataset, dummy_dataset = True):\n",
    "    if(dataset == \"nq\"):\n",
    "        if(type_of_model == \"token\"):\n",
    "            tokenizer = RagTokenizer.from_pretrained(\"facebook/rag-token-nq\")\n",
    "            retriever = RagRetriever.from_pretrained(\"facebook/rag-token-nq\", index_name=\"exact\", use_dummy_dataset=dummy_dataset)\n",
    "            model = RagTokenForGeneration.from_pretrained(\"facebook/rag-token-nq\", retriever=retriever)\n",
    "        elif(type_of_model == \"sequence\"):\n",
    "            tokenizer = RagTokenizer.from_pretrained(\"facebook/rag-sequence-nq\") \n",
    "            retriever = RagRetriever.from_pretrained(\"facebook/rag-sequence-nq\", index_name=\"exact\", use_dummy_dataset=dummy_dataset) \n",
    "            model = RagSequenceForGeneration.from_pretrained(\"facebook/rag-sequence-nq\", retriever=retriever) \n",
    "        else:\n",
    "            print(\"Please enter a valid type of model\")\n",
    "            return None, None, None\n",
    "        return tokenizer, retriever, model \n",
    "    else:\n",
    "        if(type_of_model == \"token\"):\n",
    "            tokenizer = RagTokenizer.from_pretrained(\"facebook/rag-token-base\")\n",
    "            retriever = RagRetriever.from_pretrained(\"facebook/rag-token-base\", index_name=\"exact\", use_dummy_dataset=dummy_dataset)\n",
    "            model = RagTokenForGeneration.from_pretrained(\"facebook/rag-token-base\", retriever=retriever)\n",
    "        elif(type_of_model == \"sequence\"):\n",
    "            tokenizer = RagTokenizer.from_pretrained(\"facebook/rag-sequence-base\") \n",
    "            retriever = RagRetriever.from_pretrained(\"facebook/rag-sequence-base\", index_name=\"exact\", use_dummy_dataset=dummy_dataset) \n",
    "            model = RagSequenceForGeneration.from_pretrained(\"facebook/rag-sequence-base\", retriever=retriever) \n",
    "        else:\n",
    "            print(\"Please enter a valid type of model\")\n",
    "            return None, None, None\n",
    "        return tokenizer, retriever, model "
   ]
  },
  {
   "cell_type": "code",
   "execution_count": 7,
   "metadata": {},
   "outputs": [
    {
     "name": "stderr",
     "output_type": "stream",
     "text": [
      "The tokenizer class you load from this checkpoint is not the same type as the class this function is called from. It may result in unexpected tokenization. \n",
      "The tokenizer class you load from this checkpoint is 'RagTokenizer'. \n",
      "The class this function is called from is 'DPRQuestionEncoderTokenizer'.\n",
      "The tokenizer class you load from this checkpoint is not the same type as the class this function is called from. It may result in unexpected tokenization. \n",
      "The tokenizer class you load from this checkpoint is 'RagTokenizer'. \n",
      "The class this function is called from is 'DPRQuestionEncoderTokenizerFast'.\n",
      "The tokenizer class you load from this checkpoint is not the same type as the class this function is called from. It may result in unexpected tokenization. \n",
      "The tokenizer class you load from this checkpoint is 'RagTokenizer'. \n",
      "The class this function is called from is 'BartTokenizer'.\n",
      "The tokenizer class you load from this checkpoint is not the same type as the class this function is called from. It may result in unexpected tokenization. \n",
      "The tokenizer class you load from this checkpoint is 'RagTokenizer'. \n",
      "The class this function is called from is 'BartTokenizerFast'.\n",
      "The tokenizer class you load from this checkpoint is not the same type as the class this function is called from. It may result in unexpected tokenization. \n",
      "The tokenizer class you load from this checkpoint is 'RagTokenizer'. \n",
      "The class this function is called from is 'DPRQuestionEncoderTokenizer'.\n",
      "The tokenizer class you load from this checkpoint is not the same type as the class this function is called from. It may result in unexpected tokenization. \n",
      "The tokenizer class you load from this checkpoint is 'RagTokenizer'. \n",
      "The class this function is called from is 'DPRQuestionEncoderTokenizerFast'.\n",
      "The tokenizer class you load from this checkpoint is not the same type as the class this function is called from. It may result in unexpected tokenization. \n",
      "The tokenizer class you load from this checkpoint is 'RagTokenizer'. \n",
      "The class this function is called from is 'BartTokenizer'.\n",
      "The tokenizer class you load from this checkpoint is not the same type as the class this function is called from. It may result in unexpected tokenization. \n",
      "The tokenizer class you load from this checkpoint is 'RagTokenizer'. \n",
      "The class this function is called from is 'BartTokenizerFast'.\n",
      "Some weights of the model checkpoint at facebook/rag-token-base were not used when initializing RagTokenForGeneration: ['rag.question_encoder.question_encoder.bert_model.pooler.dense.bias', 'rag.question_encoder.question_encoder.bert_model.pooler.dense.weight']\n",
      "- This IS expected if you are initializing RagTokenForGeneration from the checkpoint of a model trained on another task or with another architecture (e.g. initializing a BertForSequenceClassification model from a BertForPreTraining model).\n",
      "- This IS NOT expected if you are initializing RagTokenForGeneration from the checkpoint of a model that you expect to be exactly identical (initializing a BertForSequenceClassification model from a BertForSequenceClassification model).\n"
     ]
    }
   ],
   "source": [
    "tokenizer_token, retriever_token, model_token = load_model(\"token\", \"base\")"
   ]
  },
  {
   "cell_type": "code",
   "execution_count": 19,
   "metadata": {},
   "outputs": [
    {
     "name": "stderr",
     "output_type": "stream",
     "text": [
      "The tokenizer class you load from this checkpoint is not the same type as the class this function is called from. It may result in unexpected tokenization. \n",
      "The tokenizer class you load from this checkpoint is 'RagTokenizer'. \n",
      "The class this function is called from is 'DPRQuestionEncoderTokenizer'.\n",
      "The tokenizer class you load from this checkpoint is not the same type as the class this function is called from. It may result in unexpected tokenization. \n",
      "The tokenizer class you load from this checkpoint is 'RagTokenizer'. \n",
      "The class this function is called from is 'DPRQuestionEncoderTokenizerFast'.\n",
      "The tokenizer class you load from this checkpoint is not the same type as the class this function is called from. It may result in unexpected tokenization. \n",
      "The tokenizer class you load from this checkpoint is 'RagTokenizer'. \n",
      "The class this function is called from is 'BartTokenizer'.\n",
      "The tokenizer class you load from this checkpoint is not the same type as the class this function is called from. It may result in unexpected tokenization. \n",
      "The tokenizer class you load from this checkpoint is 'RagTokenizer'. \n",
      "The class this function is called from is 'BartTokenizerFast'.\n",
      "The tokenizer class you load from this checkpoint is not the same type as the class this function is called from. It may result in unexpected tokenization. \n",
      "The tokenizer class you load from this checkpoint is 'RagTokenizer'. \n",
      "The class this function is called from is 'DPRQuestionEncoderTokenizer'.\n",
      "The tokenizer class you load from this checkpoint is not the same type as the class this function is called from. It may result in unexpected tokenization. \n",
      "The tokenizer class you load from this checkpoint is 'RagTokenizer'. \n",
      "The class this function is called from is 'DPRQuestionEncoderTokenizerFast'.\n",
      "The tokenizer class you load from this checkpoint is not the same type as the class this function is called from. It may result in unexpected tokenization. \n",
      "The tokenizer class you load from this checkpoint is 'RagTokenizer'. \n",
      "The class this function is called from is 'BartTokenizer'.\n",
      "The tokenizer class you load from this checkpoint is not the same type as the class this function is called from. It may result in unexpected tokenization. \n",
      "The tokenizer class you load from this checkpoint is 'RagTokenizer'. \n",
      "The class this function is called from is 'BartTokenizerFast'.\n",
      "Some weights of the model checkpoint at facebook/rag-sequence-nq were not used when initializing RagSequenceForGeneration: ['rag.question_encoder.question_encoder.bert_model.pooler.dense.bias', 'rag.question_encoder.question_encoder.bert_model.pooler.dense.weight']\n",
      "- This IS expected if you are initializing RagSequenceForGeneration from the checkpoint of a model trained on another task or with another architecture (e.g. initializing a BertForSequenceClassification model from a BertForPreTraining model).\n",
      "- This IS NOT expected if you are initializing RagSequenceForGeneration from the checkpoint of a model that you expect to be exactly identical (initializing a BertForSequenceClassification model from a BertForSequenceClassification model).\n"
     ]
    }
   ],
   "source": [
    "tokenizer_sequence, retriever_sequence, model_sequence = load_model(\"sequence\", \"nq\")"
   ]
  },
  {
   "cell_type": "code",
   "execution_count": 17,
   "metadata": {},
   "outputs": [],
   "source": [
    "def generate(input, tokenizer, retreiver, model, max_length=10, num_beams = 4, temperature=1):\n",
    "    input_dict = tokenizer.__call__(input, return_tensors=\"pt\") \n",
    "    # print(input_dict)\n",
    "    generated = model.generate(\n",
    "    input_ids=input_dict[\"input_ids\"],\n",
    "    max_length=max_length,  # Set maximum length of generated text\n",
    "    num_beams=num_beams,    # Use beam search with 4 beams for generation\n",
    "    temperature=temperature # Use temperature scaling for diverse outputs\n",
    "    )\n",
    "    # print(\"Hello\")\n",
    "    # print(generated)\n",
    "    # print(\"Hello\")\n",
    "    return tokenizer.batch_decode(generated, skip_special_tokens=True)[0] "
   ]
  },
  {
   "cell_type": "code",
   "execution_count": null,
   "metadata": {},
   "outputs": [],
   "source": [
    "def generate2(input, label_text, tokenizer, retreiver, model, max_length=100, num_beams = 4, temperature=1):\n",
    "    input_dict = tokenizer.__call__(input, return_tensors=\"pt\") \n",
    "    label_dict = tokenizer.__call__(label_text, return_tensors=\"pt\") \n",
    "    input_ids=input_dict[\"input_ids\"]\n",
    "    labels = label_dict[\"input_ids\"]\n",
    "    print(input_ids)\n",
    "    print(input_ids.shape)\n",
    "    generated2 = model.forward(input_ids, num_beams = num_beams, max_length = max_length, do_marginalize = True, labels = labels)\n",
    "    print(generated2)\n",
    "    print(generated2.logits.shape)\n",
    "    print(generated2.loss)"
   ]
  },
  {
   "cell_type": "code",
   "execution_count": null,
   "metadata": {},
   "outputs": [],
   "source": [
    "generate2('what is the name of the most important jewish text', 'the Shulchan Aruch', tokenizer_token, retriever_token, model_token)"
   ]
  },
  {
   "cell_type": "code",
   "execution_count": 22,
   "metadata": {},
   "outputs": [
    {
     "data": {
      "text/plain": [
       "' islamic republic of afghanistan'"
      ]
     },
     "execution_count": 22,
     "metadata": {},
     "output_type": "execute_result"
    }
   ],
   "source": [
    "generate(\"name a country\", tokenizer_sequence, retriever_sequence, model_sequence)"
   ]
  },
  {
   "cell_type": "code",
   "execution_count": 23,
   "metadata": {},
   "outputs": [
    {
     "name": "stdout",
     "output_type": "stream",
     "text": [
      "how many nominations does game of thrones have\n",
      "[]\n"
     ]
    }
   ],
   "source": [
    "\n",
    "# Replace 'file_path.parquet' with the path to your Parquet file\n",
    "file_path = 'train-00000-of-00287.parquet'\n",
    "### only a part of nq dataset as the whole dataset was taking too much time for me  \n",
    "### so i started downloading the dataset manually \n",
    "\n",
    "# Read the Parquet file into a DataFrame\n",
    "df = pd.read_parquet(file_path)\n",
    "print(df.iloc[5]['question']['text'])\n",
    "print(df.iloc[5][\"annotations\"]['short_answers'][0]['text'])"
   ]
  },
  {
   "cell_type": "code",
   "execution_count": 24,
   "metadata": {},
   "outputs": [],
   "source": [
    "rows = []\n",
    "for i in range(len(df)):\n",
    "    if(len(df.iloc[i][\"annotations\"]['short_answers'][0]['text']) > 0):\n",
    "        rows.append(i)\n",
    "df2 = df.iloc[rows]"
   ]
  },
  {
   "cell_type": "code",
   "execution_count": 25,
   "metadata": {},
   "outputs": [
    {
     "name": "stdout",
     "output_type": "stream",
     "text": [
      "what is the name of the most important jewish text\n",
      "['the Shulchan Aruch']\n"
     ]
    }
   ],
   "source": [
    "i = 2\n",
    "print(df2.iloc[i]['question']['text'])\n",
    "print(df2.iloc[i][\"annotations\"]['short_answers'][0]['text'])"
   ]
  },
  {
   "cell_type": "code",
   "execution_count": 26,
   "metadata": {},
   "outputs": [
    {
     "data": {
      "text/plain": [
       "'March 18, 2018'"
      ]
     },
     "execution_count": 26,
     "metadata": {},
     "output_type": "execute_result"
    }
   ],
   "source": [
    "df.iloc[0][\"annotations\"]['short_answers'][0]['text'][0]"
   ]
  },
  {
   "cell_type": "code",
   "execution_count": 27,
   "metadata": {},
   "outputs": [
    {
     "data": {
      "text/plain": [
       "Index(['id', 'document', 'question', 'long_answer_candidates', 'annotations'], dtype='object')"
      ]
     },
     "execution_count": 27,
     "metadata": {},
     "output_type": "execute_result"
    }
   ],
   "source": [
    "df.iloc[0].keys()"
   ]
  },
  {
   "cell_type": "code",
   "execution_count": 28,
   "metadata": {},
   "outputs": [
    {
     "name": "stdout",
     "output_type": "stream",
     "text": [
      "131\n"
     ]
    }
   ],
   "source": [
    "maximum = 0\n",
    "for i in range(len(df2)):\n",
    "    if(len(df2.iloc[i][\"annotations\"]['short_answers'][0]['text'][0].split()) > maximum):\n",
    "        maximum = len(df2.iloc[i][\"annotations\"]['short_answers'][0]['text'][0].split())\n",
    "print(maximum)"
   ]
  },
  {
   "cell_type": "code",
   "execution_count": 29,
   "metadata": {},
   "outputs": [
    {
     "name": "stdout",
     "output_type": "stream",
     "text": [
      "ASCII\n",
      "is an encoding for english alphanumeric characters as 7-bit numbers\n"
     ]
    }
   ],
   "source": [
    "print(df2.iloc[i][\"annotations\"]['short_answers'][0]['text'][0])\n",
    "print(df2.iloc[i]['question']['text'])"
   ]
  },
  {
   "cell_type": "code",
   "execution_count": 30,
   "metadata": {},
   "outputs": [
    {
     "name": "stderr",
     "output_type": "stream",
     "text": [
      "  0%|          | 0/362 [00:00<?, ?it/s]/home/pranit/.local/lib/python3.9/site-packages/transformers/generation/utils.py:2949: UserWarning: `max_length` is deprecated in this function, use `stopping_criteria=StoppingCriteriaList(MaxLengthCriteria(max_length=max_length))` instead.\n",
      "  warnings.warn(\n",
      "  2%|▏         | 8/362 [00:20<15:10,  2.57s/it]\n"
     ]
    },
    {
     "ename": "KeyboardInterrupt",
     "evalue": "",
     "output_type": "error",
     "traceback": [
      "\u001b[0;31m---------------------------------------------------------------------------\u001b[0m",
      "\u001b[0;31mKeyboardInterrupt\u001b[0m                         Traceback (most recent call last)",
      "Cell \u001b[0;32mIn[30], line 10\u001b[0m\n\u001b[1;32m      8\u001b[0m \u001b[38;5;28;01mfor\u001b[39;00m i \u001b[38;5;129;01min\u001b[39;00m tqdm(\u001b[38;5;28mrange\u001b[39m(\u001b[38;5;28mlen\u001b[39m(df2))):\n\u001b[1;32m      9\u001b[0m     reference_summary \u001b[38;5;241m=\u001b[39m df2\u001b[38;5;241m.\u001b[39miloc[i][\u001b[38;5;124m\"\u001b[39m\u001b[38;5;124mannotations\u001b[39m\u001b[38;5;124m\"\u001b[39m][\u001b[38;5;124m'\u001b[39m\u001b[38;5;124mshort_answers\u001b[39m\u001b[38;5;124m'\u001b[39m][\u001b[38;5;241m0\u001b[39m][\u001b[38;5;124m'\u001b[39m\u001b[38;5;124mtext\u001b[39m\u001b[38;5;124m'\u001b[39m][\u001b[38;5;241m0\u001b[39m]\n\u001b[0;32m---> 10\u001b[0m     system_summary \u001b[38;5;241m=\u001b[39m \u001b[43mgenerate\u001b[49m\u001b[43m(\u001b[49m\u001b[43mdf2\u001b[49m\u001b[38;5;241;43m.\u001b[39;49m\u001b[43miloc\u001b[49m\u001b[43m[\u001b[49m\u001b[43mi\u001b[49m\u001b[43m]\u001b[49m\u001b[43m[\u001b[49m\u001b[38;5;124;43m'\u001b[39;49m\u001b[38;5;124;43mquestion\u001b[39;49m\u001b[38;5;124;43m'\u001b[39;49m\u001b[43m]\u001b[49m\u001b[43m[\u001b[49m\u001b[38;5;124;43m'\u001b[39;49m\u001b[38;5;124;43mtext\u001b[39;49m\u001b[38;5;124;43m'\u001b[39;49m\u001b[43m]\u001b[49m\u001b[43m,\u001b[49m\u001b[43m \u001b[49m\u001b[43mtokenizer_token\u001b[49m\u001b[43m,\u001b[49m\u001b[43m \u001b[49m\u001b[43mretriever_token\u001b[49m\u001b[43m,\u001b[49m\u001b[43m \u001b[49m\u001b[43mmodel_token\u001b[49m\u001b[43m,\u001b[49m\u001b[43m \u001b[49m\u001b[43mmax_length\u001b[49m\u001b[43m \u001b[49m\u001b[38;5;241;43m=\u001b[39;49m\u001b[43m \u001b[49m\u001b[38;5;241;43m3\u001b[39;49m\u001b[43m)\u001b[49m\n\u001b[1;32m     11\u001b[0m     reference_summary \u001b[38;5;241m=\u001b[39m reference_summary\u001b[38;5;241m.\u001b[39mlower()\n\u001b[1;32m     12\u001b[0m     system_summary \u001b[38;5;241m=\u001b[39m system_summary\u001b[38;5;241m.\u001b[39mlower()\n",
      "Cell \u001b[0;32mIn[17], line 4\u001b[0m, in \u001b[0;36mgenerate\u001b[0;34m(input, tokenizer, retreiver, model, max_length, num_beams, temperature)\u001b[0m\n\u001b[1;32m      2\u001b[0m input_dict \u001b[38;5;241m=\u001b[39m tokenizer\u001b[38;5;241m.\u001b[39m\u001b[38;5;21m__call__\u001b[39m(\u001b[38;5;28minput\u001b[39m, return_tensors\u001b[38;5;241m=\u001b[39m\u001b[38;5;124m\"\u001b[39m\u001b[38;5;124mpt\u001b[39m\u001b[38;5;124m\"\u001b[39m) \n\u001b[1;32m      3\u001b[0m \u001b[38;5;66;03m# print(input_dict)\u001b[39;00m\n\u001b[0;32m----> 4\u001b[0m generated \u001b[38;5;241m=\u001b[39m \u001b[43mmodel\u001b[49m\u001b[38;5;241;43m.\u001b[39;49m\u001b[43mgenerate\u001b[49m\u001b[43m(\u001b[49m\n\u001b[1;32m      5\u001b[0m \u001b[43m\u001b[49m\u001b[43minput_ids\u001b[49m\u001b[38;5;241;43m=\u001b[39;49m\u001b[43minput_dict\u001b[49m\u001b[43m[\u001b[49m\u001b[38;5;124;43m\"\u001b[39;49m\u001b[38;5;124;43minput_ids\u001b[39;49m\u001b[38;5;124;43m\"\u001b[39;49m\u001b[43m]\u001b[49m\u001b[43m,\u001b[49m\n\u001b[1;32m      6\u001b[0m \u001b[43m\u001b[49m\u001b[43mmax_length\u001b[49m\u001b[38;5;241;43m=\u001b[39;49m\u001b[43mmax_length\u001b[49m\u001b[43m,\u001b[49m\u001b[43m  \u001b[49m\u001b[38;5;66;43;03m# Set maximum length of generated text\u001b[39;49;00m\n\u001b[1;32m      7\u001b[0m \u001b[43m\u001b[49m\u001b[43mnum_beams\u001b[49m\u001b[38;5;241;43m=\u001b[39;49m\u001b[43mnum_beams\u001b[49m\u001b[43m,\u001b[49m\u001b[43m    \u001b[49m\u001b[38;5;66;43;03m# Use beam search with 4 beams for generation\u001b[39;49;00m\n\u001b[1;32m      8\u001b[0m \u001b[43m\u001b[49m\u001b[43mtemperature\u001b[49m\u001b[38;5;241;43m=\u001b[39;49m\u001b[43mtemperature\u001b[49m\u001b[43m \u001b[49m\u001b[38;5;66;43;03m# Use temperature scaling for diverse outputs\u001b[39;49;00m\n\u001b[1;32m      9\u001b[0m \u001b[43m\u001b[49m\u001b[43m)\u001b[49m\n\u001b[1;32m     10\u001b[0m \u001b[38;5;66;03m# print(\"Hello\")\u001b[39;00m\n\u001b[1;32m     11\u001b[0m \u001b[38;5;66;03m# print(generated)\u001b[39;00m\n\u001b[1;32m     12\u001b[0m \u001b[38;5;66;03m# print(\"Hello\")\u001b[39;00m\n\u001b[1;32m     13\u001b[0m \u001b[38;5;28;01mreturn\u001b[39;00m tokenizer\u001b[38;5;241m.\u001b[39mbatch_decode(generated, skip_special_tokens\u001b[38;5;241m=\u001b[39m\u001b[38;5;28;01mTrue\u001b[39;00m)[\u001b[38;5;241m0\u001b[39m]\n",
      "File \u001b[0;32m~/.local/lib/python3.9/site-packages/torch/utils/_contextlib.py:115\u001b[0m, in \u001b[0;36mcontext_decorator.<locals>.decorate_context\u001b[0;34m(*args, **kwargs)\u001b[0m\n\u001b[1;32m    112\u001b[0m \u001b[39m@functools\u001b[39m\u001b[39m.\u001b[39mwraps(func)\n\u001b[1;32m    113\u001b[0m \u001b[39mdef\u001b[39;00m \u001b[39mdecorate_context\u001b[39m(\u001b[39m*\u001b[39margs, \u001b[39m*\u001b[39m\u001b[39m*\u001b[39mkwargs):\n\u001b[1;32m    114\u001b[0m     \u001b[39mwith\u001b[39;00m ctx_factory():\n\u001b[0;32m--> 115\u001b[0m         \u001b[39mreturn\u001b[39;00m func(\u001b[39m*\u001b[39;49margs, \u001b[39m*\u001b[39;49m\u001b[39m*\u001b[39;49mkwargs)\n",
      "File \u001b[0;32m~/.local/lib/python3.9/site-packages/transformers/models/rag/modeling_rag.py:1563\u001b[0m, in \u001b[0;36mRagTokenForGeneration.generate\u001b[0;34m(self, input_ids, attention_mask, context_input_ids, context_attention_mask, doc_scores, n_docs, generation_config, prefix_allowed_tokens_fn, logits_processor, stopping_criteria, **kwargs)\u001b[0m\n\u001b[1;32m   1553\u001b[0m         \u001b[39mraise\u001b[39;00m \u001b[39mValueError\u001b[39;00m(\u001b[39m\"\u001b[39m\u001b[39m`num_return_sequences` has to be smaller or equal to `num_beams`.\u001b[39m\u001b[39m\"\u001b[39m)\n\u001b[1;32m   1554\u001b[0m     beam_scorer \u001b[39m=\u001b[39m BeamSearchScorer(\n\u001b[1;32m   1555\u001b[0m         batch_size\u001b[39m=\u001b[39mbatch_size,\n\u001b[1;32m   1556\u001b[0m         num_beams\u001b[39m=\u001b[39mgeneration_config\u001b[39m.\u001b[39mnum_beams,\n\u001b[0;32m   (...)\u001b[0m\n\u001b[1;32m   1561\u001b[0m         max_length\u001b[39m=\u001b[39mgeneration_config\u001b[39m.\u001b[39mmax_length,\n\u001b[1;32m   1562\u001b[0m     )\n\u001b[0;32m-> 1563\u001b[0m     \u001b[39mreturn\u001b[39;00m \u001b[39mself\u001b[39;49m\u001b[39m.\u001b[39;49mbeam_search(\n\u001b[1;32m   1564\u001b[0m         input_ids,\n\u001b[1;32m   1565\u001b[0m         beam_scorer,\n\u001b[1;32m   1566\u001b[0m         logits_processor\u001b[39m=\u001b[39;49mpre_processor,\n\u001b[1;32m   1567\u001b[0m         max_length\u001b[39m=\u001b[39;49mgeneration_config\u001b[39m.\u001b[39;49mmax_length,\n\u001b[1;32m   1568\u001b[0m         pad_token_id\u001b[39m=\u001b[39;49mgeneration_config\u001b[39m.\u001b[39;49mpad_token_id,\n\u001b[1;32m   1569\u001b[0m         eos_token_id\u001b[39m=\u001b[39;49mgeneration_config\u001b[39m.\u001b[39;49meos_token_id,\n\u001b[1;32m   1570\u001b[0m         \u001b[39m*\u001b[39;49m\u001b[39m*\u001b[39;49mmodel_kwargs,\n\u001b[1;32m   1571\u001b[0m     )\n\u001b[1;32m   1572\u001b[0m \u001b[39melse\u001b[39;00m:\n\u001b[1;32m   1573\u001b[0m     \u001b[39mraise\u001b[39;00m \u001b[39mValueError\u001b[39;00m(\n\u001b[1;32m   1574\u001b[0m         \u001b[39mf\u001b[39m\u001b[39m\"\u001b[39m\u001b[39m`num_beams` has to be an integer strictly superior to 0 (≥ 1), but is \u001b[39m\u001b[39m{\u001b[39;00mgeneration_config\u001b[39m.\u001b[39mnum_beams\u001b[39m}\u001b[39;00m\u001b[39m\"\u001b[39m\n\u001b[1;32m   1575\u001b[0m     )\n",
      "File \u001b[0;32m~/.local/lib/python3.9/site-packages/transformers/generation/utils.py:3020\u001b[0m, in \u001b[0;36mGenerationMixin.beam_search\u001b[0;34m(self, input_ids, beam_scorer, logits_processor, stopping_criteria, max_length, pad_token_id, eos_token_id, output_attentions, output_hidden_states, output_scores, return_dict_in_generate, synced_gpus, **model_kwargs)\u001b[0m\n\u001b[1;32m   3016\u001b[0m         \u001b[39mbreak\u001b[39;00m\n\u001b[1;32m   3018\u001b[0m model_inputs \u001b[39m=\u001b[39m \u001b[39mself\u001b[39m\u001b[39m.\u001b[39mprepare_inputs_for_generation(input_ids, \u001b[39m*\u001b[39m\u001b[39m*\u001b[39mmodel_kwargs)\n\u001b[0;32m-> 3020\u001b[0m outputs \u001b[39m=\u001b[39m \u001b[39mself\u001b[39;49m(\n\u001b[1;32m   3021\u001b[0m     \u001b[39m*\u001b[39;49m\u001b[39m*\u001b[39;49mmodel_inputs,\n\u001b[1;32m   3022\u001b[0m     return_dict\u001b[39m=\u001b[39;49m\u001b[39mTrue\u001b[39;49;00m,\n\u001b[1;32m   3023\u001b[0m     output_attentions\u001b[39m=\u001b[39;49moutput_attentions,\n\u001b[1;32m   3024\u001b[0m     output_hidden_states\u001b[39m=\u001b[39;49moutput_hidden_states,\n\u001b[1;32m   3025\u001b[0m )\n\u001b[1;32m   3027\u001b[0m \u001b[39mif\u001b[39;00m synced_gpus \u001b[39mand\u001b[39;00m this_peer_finished:\n\u001b[1;32m   3028\u001b[0m     cur_len \u001b[39m=\u001b[39m cur_len \u001b[39m+\u001b[39m \u001b[39m1\u001b[39m\n",
      "File \u001b[0;32m~/.local/lib/python3.9/site-packages/torch/nn/modules/module.py:1518\u001b[0m, in \u001b[0;36mModule._wrapped_call_impl\u001b[0;34m(self, *args, **kwargs)\u001b[0m\n\u001b[1;32m   1516\u001b[0m     \u001b[39mreturn\u001b[39;00m \u001b[39mself\u001b[39m\u001b[39m.\u001b[39m_compiled_call_impl(\u001b[39m*\u001b[39margs, \u001b[39m*\u001b[39m\u001b[39m*\u001b[39mkwargs)  \u001b[39m# type: ignore[misc]\u001b[39;00m\n\u001b[1;32m   1517\u001b[0m \u001b[39melse\u001b[39;00m:\n\u001b[0;32m-> 1518\u001b[0m     \u001b[39mreturn\u001b[39;00m \u001b[39mself\u001b[39;49m\u001b[39m.\u001b[39;49m_call_impl(\u001b[39m*\u001b[39;49margs, \u001b[39m*\u001b[39;49m\u001b[39m*\u001b[39;49mkwargs)\n",
      "File \u001b[0;32m~/.local/lib/python3.9/site-packages/torch/nn/modules/module.py:1527\u001b[0m, in \u001b[0;36mModule._call_impl\u001b[0;34m(self, *args, **kwargs)\u001b[0m\n\u001b[1;32m   1522\u001b[0m \u001b[39m# If we don't have any hooks, we want to skip the rest of the logic in\u001b[39;00m\n\u001b[1;32m   1523\u001b[0m \u001b[39m# this function, and just call forward.\u001b[39;00m\n\u001b[1;32m   1524\u001b[0m \u001b[39mif\u001b[39;00m \u001b[39mnot\u001b[39;00m (\u001b[39mself\u001b[39m\u001b[39m.\u001b[39m_backward_hooks \u001b[39mor\u001b[39;00m \u001b[39mself\u001b[39m\u001b[39m.\u001b[39m_backward_pre_hooks \u001b[39mor\u001b[39;00m \u001b[39mself\u001b[39m\u001b[39m.\u001b[39m_forward_hooks \u001b[39mor\u001b[39;00m \u001b[39mself\u001b[39m\u001b[39m.\u001b[39m_forward_pre_hooks\n\u001b[1;32m   1525\u001b[0m         \u001b[39mor\u001b[39;00m _global_backward_pre_hooks \u001b[39mor\u001b[39;00m _global_backward_hooks\n\u001b[1;32m   1526\u001b[0m         \u001b[39mor\u001b[39;00m _global_forward_hooks \u001b[39mor\u001b[39;00m _global_forward_pre_hooks):\n\u001b[0;32m-> 1527\u001b[0m     \u001b[39mreturn\u001b[39;00m forward_call(\u001b[39m*\u001b[39;49margs, \u001b[39m*\u001b[39;49m\u001b[39m*\u001b[39;49mkwargs)\n\u001b[1;32m   1529\u001b[0m \u001b[39mtry\u001b[39;00m:\n\u001b[1;32m   1530\u001b[0m     result \u001b[39m=\u001b[39m \u001b[39mNone\u001b[39;00m\n",
      "File \u001b[0;32m~/.local/lib/python3.9/site-packages/transformers/models/rag/modeling_rag.py:1319\u001b[0m, in \u001b[0;36mRagTokenForGeneration.forward\u001b[0;34m(self, input_ids, attention_mask, encoder_outputs, decoder_input_ids, decoder_attention_mask, past_key_values, context_input_ids, context_attention_mask, doc_scores, use_cache, output_attentions, output_hidden_states, output_retrieved, do_marginalize, reduce_loss, labels, n_docs, **kwargs)\u001b[0m\n\u001b[1;32m   1316\u001b[0m         decoder_input_ids \u001b[39m=\u001b[39m labels\n\u001b[1;32m   1317\u001b[0m     use_cache \u001b[39m=\u001b[39m \u001b[39mFalse\u001b[39;00m\n\u001b[0;32m-> 1319\u001b[0m outputs \u001b[39m=\u001b[39m \u001b[39mself\u001b[39;49m\u001b[39m.\u001b[39;49mrag(\n\u001b[1;32m   1320\u001b[0m     input_ids\u001b[39m=\u001b[39;49minput_ids,\n\u001b[1;32m   1321\u001b[0m     attention_mask\u001b[39m=\u001b[39;49mattention_mask,\n\u001b[1;32m   1322\u001b[0m     encoder_outputs\u001b[39m=\u001b[39;49mencoder_outputs,\n\u001b[1;32m   1323\u001b[0m     decoder_input_ids\u001b[39m=\u001b[39;49mdecoder_input_ids,\n\u001b[1;32m   1324\u001b[0m     decoder_attention_mask\u001b[39m=\u001b[39;49mdecoder_attention_mask,\n\u001b[1;32m   1325\u001b[0m     context_input_ids\u001b[39m=\u001b[39;49mcontext_input_ids,\n\u001b[1;32m   1326\u001b[0m     context_attention_mask\u001b[39m=\u001b[39;49mcontext_attention_mask,\n\u001b[1;32m   1327\u001b[0m     doc_scores\u001b[39m=\u001b[39;49mdoc_scores,\n\u001b[1;32m   1328\u001b[0m     past_key_values\u001b[39m=\u001b[39;49mpast_key_values,\n\u001b[1;32m   1329\u001b[0m     use_cache\u001b[39m=\u001b[39;49muse_cache,\n\u001b[1;32m   1330\u001b[0m     output_attentions\u001b[39m=\u001b[39;49moutput_attentions,\n\u001b[1;32m   1331\u001b[0m     output_hidden_states\u001b[39m=\u001b[39;49moutput_hidden_states,\n\u001b[1;32m   1332\u001b[0m     output_retrieved\u001b[39m=\u001b[39;49moutput_retrieved,\n\u001b[1;32m   1333\u001b[0m     n_docs\u001b[39m=\u001b[39;49mn_docs,\n\u001b[1;32m   1334\u001b[0m )\n\u001b[1;32m   1336\u001b[0m loss \u001b[39m=\u001b[39m \u001b[39mNone\u001b[39;00m\n\u001b[1;32m   1337\u001b[0m logits \u001b[39m=\u001b[39m outputs\u001b[39m.\u001b[39mlogits\n",
      "File \u001b[0;32m~/.local/lib/python3.9/site-packages/torch/nn/modules/module.py:1518\u001b[0m, in \u001b[0;36mModule._wrapped_call_impl\u001b[0;34m(self, *args, **kwargs)\u001b[0m\n\u001b[1;32m   1516\u001b[0m     \u001b[39mreturn\u001b[39;00m \u001b[39mself\u001b[39m\u001b[39m.\u001b[39m_compiled_call_impl(\u001b[39m*\u001b[39margs, \u001b[39m*\u001b[39m\u001b[39m*\u001b[39mkwargs)  \u001b[39m# type: ignore[misc]\u001b[39;00m\n\u001b[1;32m   1517\u001b[0m \u001b[39melse\u001b[39;00m:\n\u001b[0;32m-> 1518\u001b[0m     \u001b[39mreturn\u001b[39;00m \u001b[39mself\u001b[39;49m\u001b[39m.\u001b[39;49m_call_impl(\u001b[39m*\u001b[39;49margs, \u001b[39m*\u001b[39;49m\u001b[39m*\u001b[39;49mkwargs)\n",
      "File \u001b[0;32m~/.local/lib/python3.9/site-packages/torch/nn/modules/module.py:1527\u001b[0m, in \u001b[0;36mModule._call_impl\u001b[0;34m(self, *args, **kwargs)\u001b[0m\n\u001b[1;32m   1522\u001b[0m \u001b[39m# If we don't have any hooks, we want to skip the rest of the logic in\u001b[39;00m\n\u001b[1;32m   1523\u001b[0m \u001b[39m# this function, and just call forward.\u001b[39;00m\n\u001b[1;32m   1524\u001b[0m \u001b[39mif\u001b[39;00m \u001b[39mnot\u001b[39;00m (\u001b[39mself\u001b[39m\u001b[39m.\u001b[39m_backward_hooks \u001b[39mor\u001b[39;00m \u001b[39mself\u001b[39m\u001b[39m.\u001b[39m_backward_pre_hooks \u001b[39mor\u001b[39;00m \u001b[39mself\u001b[39m\u001b[39m.\u001b[39m_forward_hooks \u001b[39mor\u001b[39;00m \u001b[39mself\u001b[39m\u001b[39m.\u001b[39m_forward_pre_hooks\n\u001b[1;32m   1525\u001b[0m         \u001b[39mor\u001b[39;00m _global_backward_pre_hooks \u001b[39mor\u001b[39;00m _global_backward_hooks\n\u001b[1;32m   1526\u001b[0m         \u001b[39mor\u001b[39;00m _global_forward_hooks \u001b[39mor\u001b[39;00m _global_forward_pre_hooks):\n\u001b[0;32m-> 1527\u001b[0m     \u001b[39mreturn\u001b[39;00m forward_call(\u001b[39m*\u001b[39;49margs, \u001b[39m*\u001b[39;49m\u001b[39m*\u001b[39;49mkwargs)\n\u001b[1;32m   1529\u001b[0m \u001b[39mtry\u001b[39;00m:\n\u001b[1;32m   1530\u001b[0m     result \u001b[39m=\u001b[39m \u001b[39mNone\u001b[39;00m\n",
      "File \u001b[0;32m~/.local/lib/python3.9/site-packages/transformers/models/rag/modeling_rag.py:680\u001b[0m, in \u001b[0;36mRagModel.forward\u001b[0;34m(self, input_ids, attention_mask, encoder_outputs, decoder_input_ids, decoder_attention_mask, past_key_values, doc_scores, context_input_ids, context_attention_mask, use_cache, output_attentions, output_hidden_states, output_retrieved, n_docs)\u001b[0m\n\u001b[1;32m    677\u001b[0m \u001b[39mif\u001b[39;00m decoder_attention_mask \u001b[39mis\u001b[39;00m \u001b[39mnot\u001b[39;00m \u001b[39mNone\u001b[39;00m:\n\u001b[1;32m    678\u001b[0m     decoder_attention_mask \u001b[39m=\u001b[39m decoder_attention_mask\u001b[39m.\u001b[39mrepeat_interleave(n_docs, dim\u001b[39m=\u001b[39m\u001b[39m0\u001b[39m)\n\u001b[0;32m--> 680\u001b[0m gen_outputs \u001b[39m=\u001b[39m \u001b[39mself\u001b[39;49m\u001b[39m.\u001b[39;49mgenerator(\n\u001b[1;32m    681\u001b[0m     input_ids\u001b[39m=\u001b[39;49mcontext_input_ids,\n\u001b[1;32m    682\u001b[0m     attention_mask\u001b[39m=\u001b[39;49mcontext_attention_mask,\n\u001b[1;32m    683\u001b[0m     encoder_outputs\u001b[39m=\u001b[39;49mencoder_outputs,\n\u001b[1;32m    684\u001b[0m     decoder_input_ids\u001b[39m=\u001b[39;49mdecoder_input_ids,\n\u001b[1;32m    685\u001b[0m     decoder_attention_mask\u001b[39m=\u001b[39;49mdecoder_attention_mask,\n\u001b[1;32m    686\u001b[0m     past_key_values\u001b[39m=\u001b[39;49mpast_key_values,\n\u001b[1;32m    687\u001b[0m     use_cache\u001b[39m=\u001b[39;49muse_cache,\n\u001b[1;32m    688\u001b[0m     output_attentions\u001b[39m=\u001b[39;49moutput_attentions,\n\u001b[1;32m    689\u001b[0m     return_dict\u001b[39m=\u001b[39;49m\u001b[39mTrue\u001b[39;49;00m,\n\u001b[1;32m    690\u001b[0m )\n\u001b[1;32m    692\u001b[0m \u001b[39mif\u001b[39;00m \u001b[39mnot\u001b[39;00m has_to_retrieve:\n\u001b[1;32m    693\u001b[0m     question_encoder_last_hidden_state \u001b[39m=\u001b[39m \u001b[39mNone\u001b[39;00m\n",
      "File \u001b[0;32m~/.local/lib/python3.9/site-packages/torch/nn/modules/module.py:1518\u001b[0m, in \u001b[0;36mModule._wrapped_call_impl\u001b[0;34m(self, *args, **kwargs)\u001b[0m\n\u001b[1;32m   1516\u001b[0m     \u001b[39mreturn\u001b[39;00m \u001b[39mself\u001b[39m\u001b[39m.\u001b[39m_compiled_call_impl(\u001b[39m*\u001b[39margs, \u001b[39m*\u001b[39m\u001b[39m*\u001b[39mkwargs)  \u001b[39m# type: ignore[misc]\u001b[39;00m\n\u001b[1;32m   1517\u001b[0m \u001b[39melse\u001b[39;00m:\n\u001b[0;32m-> 1518\u001b[0m     \u001b[39mreturn\u001b[39;00m \u001b[39mself\u001b[39;49m\u001b[39m.\u001b[39;49m_call_impl(\u001b[39m*\u001b[39;49margs, \u001b[39m*\u001b[39;49m\u001b[39m*\u001b[39;49mkwargs)\n",
      "File \u001b[0;32m~/.local/lib/python3.9/site-packages/torch/nn/modules/module.py:1527\u001b[0m, in \u001b[0;36mModule._call_impl\u001b[0;34m(self, *args, **kwargs)\u001b[0m\n\u001b[1;32m   1522\u001b[0m \u001b[39m# If we don't have any hooks, we want to skip the rest of the logic in\u001b[39;00m\n\u001b[1;32m   1523\u001b[0m \u001b[39m# this function, and just call forward.\u001b[39;00m\n\u001b[1;32m   1524\u001b[0m \u001b[39mif\u001b[39;00m \u001b[39mnot\u001b[39;00m (\u001b[39mself\u001b[39m\u001b[39m.\u001b[39m_backward_hooks \u001b[39mor\u001b[39;00m \u001b[39mself\u001b[39m\u001b[39m.\u001b[39m_backward_pre_hooks \u001b[39mor\u001b[39;00m \u001b[39mself\u001b[39m\u001b[39m.\u001b[39m_forward_hooks \u001b[39mor\u001b[39;00m \u001b[39mself\u001b[39m\u001b[39m.\u001b[39m_forward_pre_hooks\n\u001b[1;32m   1525\u001b[0m         \u001b[39mor\u001b[39;00m _global_backward_pre_hooks \u001b[39mor\u001b[39;00m _global_backward_hooks\n\u001b[1;32m   1526\u001b[0m         \u001b[39mor\u001b[39;00m _global_forward_hooks \u001b[39mor\u001b[39;00m _global_forward_pre_hooks):\n\u001b[0;32m-> 1527\u001b[0m     \u001b[39mreturn\u001b[39;00m forward_call(\u001b[39m*\u001b[39;49margs, \u001b[39m*\u001b[39;49m\u001b[39m*\u001b[39;49mkwargs)\n\u001b[1;32m   1529\u001b[0m \u001b[39mtry\u001b[39;00m:\n\u001b[1;32m   1530\u001b[0m     result \u001b[39m=\u001b[39m \u001b[39mNone\u001b[39;00m\n",
      "File \u001b[0;32m~/.local/lib/python3.9/site-packages/transformers/models/bart/modeling_bart.py:1388\u001b[0m, in \u001b[0;36mBartForConditionalGeneration.forward\u001b[0;34m(self, input_ids, attention_mask, decoder_input_ids, decoder_attention_mask, head_mask, decoder_head_mask, cross_attn_head_mask, encoder_outputs, past_key_values, inputs_embeds, decoder_inputs_embeds, labels, use_cache, output_attentions, output_hidden_states, return_dict)\u001b[0m\n\u001b[1;32m   1383\u001b[0m     \u001b[39mif\u001b[39;00m decoder_input_ids \u001b[39mis\u001b[39;00m \u001b[39mNone\u001b[39;00m \u001b[39mand\u001b[39;00m decoder_inputs_embeds \u001b[39mis\u001b[39;00m \u001b[39mNone\u001b[39;00m:\n\u001b[1;32m   1384\u001b[0m         decoder_input_ids \u001b[39m=\u001b[39m shift_tokens_right(\n\u001b[1;32m   1385\u001b[0m             labels, \u001b[39mself\u001b[39m\u001b[39m.\u001b[39mconfig\u001b[39m.\u001b[39mpad_token_id, \u001b[39mself\u001b[39m\u001b[39m.\u001b[39mconfig\u001b[39m.\u001b[39mdecoder_start_token_id\n\u001b[1;32m   1386\u001b[0m         )\n\u001b[0;32m-> 1388\u001b[0m outputs \u001b[39m=\u001b[39m \u001b[39mself\u001b[39;49m\u001b[39m.\u001b[39;49mmodel(\n\u001b[1;32m   1389\u001b[0m     input_ids,\n\u001b[1;32m   1390\u001b[0m     attention_mask\u001b[39m=\u001b[39;49mattention_mask,\n\u001b[1;32m   1391\u001b[0m     decoder_input_ids\u001b[39m=\u001b[39;49mdecoder_input_ids,\n\u001b[1;32m   1392\u001b[0m     encoder_outputs\u001b[39m=\u001b[39;49mencoder_outputs,\n\u001b[1;32m   1393\u001b[0m     decoder_attention_mask\u001b[39m=\u001b[39;49mdecoder_attention_mask,\n\u001b[1;32m   1394\u001b[0m     head_mask\u001b[39m=\u001b[39;49mhead_mask,\n\u001b[1;32m   1395\u001b[0m     decoder_head_mask\u001b[39m=\u001b[39;49mdecoder_head_mask,\n\u001b[1;32m   1396\u001b[0m     cross_attn_head_mask\u001b[39m=\u001b[39;49mcross_attn_head_mask,\n\u001b[1;32m   1397\u001b[0m     past_key_values\u001b[39m=\u001b[39;49mpast_key_values,\n\u001b[1;32m   1398\u001b[0m     inputs_embeds\u001b[39m=\u001b[39;49minputs_embeds,\n\u001b[1;32m   1399\u001b[0m     decoder_inputs_embeds\u001b[39m=\u001b[39;49mdecoder_inputs_embeds,\n\u001b[1;32m   1400\u001b[0m     use_cache\u001b[39m=\u001b[39;49muse_cache,\n\u001b[1;32m   1401\u001b[0m     output_attentions\u001b[39m=\u001b[39;49moutput_attentions,\n\u001b[1;32m   1402\u001b[0m     output_hidden_states\u001b[39m=\u001b[39;49moutput_hidden_states,\n\u001b[1;32m   1403\u001b[0m     return_dict\u001b[39m=\u001b[39;49mreturn_dict,\n\u001b[1;32m   1404\u001b[0m )\n\u001b[1;32m   1406\u001b[0m lm_logits \u001b[39m=\u001b[39m \u001b[39mself\u001b[39m\u001b[39m.\u001b[39mlm_head(outputs[\u001b[39m0\u001b[39m])\n\u001b[1;32m   1407\u001b[0m lm_logits \u001b[39m=\u001b[39m lm_logits \u001b[39m+\u001b[39m \u001b[39mself\u001b[39m\u001b[39m.\u001b[39mfinal_logits_bias\u001b[39m.\u001b[39mto(lm_logits\u001b[39m.\u001b[39mdevice)\n",
      "File \u001b[0;32m~/.local/lib/python3.9/site-packages/torch/nn/modules/module.py:1518\u001b[0m, in \u001b[0;36mModule._wrapped_call_impl\u001b[0;34m(self, *args, **kwargs)\u001b[0m\n\u001b[1;32m   1516\u001b[0m     \u001b[39mreturn\u001b[39;00m \u001b[39mself\u001b[39m\u001b[39m.\u001b[39m_compiled_call_impl(\u001b[39m*\u001b[39margs, \u001b[39m*\u001b[39m\u001b[39m*\u001b[39mkwargs)  \u001b[39m# type: ignore[misc]\u001b[39;00m\n\u001b[1;32m   1517\u001b[0m \u001b[39melse\u001b[39;00m:\n\u001b[0;32m-> 1518\u001b[0m     \u001b[39mreturn\u001b[39;00m \u001b[39mself\u001b[39;49m\u001b[39m.\u001b[39;49m_call_impl(\u001b[39m*\u001b[39;49margs, \u001b[39m*\u001b[39;49m\u001b[39m*\u001b[39;49mkwargs)\n",
      "File \u001b[0;32m~/.local/lib/python3.9/site-packages/torch/nn/modules/module.py:1527\u001b[0m, in \u001b[0;36mModule._call_impl\u001b[0;34m(self, *args, **kwargs)\u001b[0m\n\u001b[1;32m   1522\u001b[0m \u001b[39m# If we don't have any hooks, we want to skip the rest of the logic in\u001b[39;00m\n\u001b[1;32m   1523\u001b[0m \u001b[39m# this function, and just call forward.\u001b[39;00m\n\u001b[1;32m   1524\u001b[0m \u001b[39mif\u001b[39;00m \u001b[39mnot\u001b[39;00m (\u001b[39mself\u001b[39m\u001b[39m.\u001b[39m_backward_hooks \u001b[39mor\u001b[39;00m \u001b[39mself\u001b[39m\u001b[39m.\u001b[39m_backward_pre_hooks \u001b[39mor\u001b[39;00m \u001b[39mself\u001b[39m\u001b[39m.\u001b[39m_forward_hooks \u001b[39mor\u001b[39;00m \u001b[39mself\u001b[39m\u001b[39m.\u001b[39m_forward_pre_hooks\n\u001b[1;32m   1525\u001b[0m         \u001b[39mor\u001b[39;00m _global_backward_pre_hooks \u001b[39mor\u001b[39;00m _global_backward_hooks\n\u001b[1;32m   1526\u001b[0m         \u001b[39mor\u001b[39;00m _global_forward_hooks \u001b[39mor\u001b[39;00m _global_forward_pre_hooks):\n\u001b[0;32m-> 1527\u001b[0m     \u001b[39mreturn\u001b[39;00m forward_call(\u001b[39m*\u001b[39;49margs, \u001b[39m*\u001b[39;49m\u001b[39m*\u001b[39;49mkwargs)\n\u001b[1;32m   1529\u001b[0m \u001b[39mtry\u001b[39;00m:\n\u001b[1;32m   1530\u001b[0m     result \u001b[39m=\u001b[39m \u001b[39mNone\u001b[39;00m\n",
      "File \u001b[0;32m~/.local/lib/python3.9/site-packages/transformers/models/bart/modeling_bart.py:1274\u001b[0m, in \u001b[0;36mBartModel.forward\u001b[0;34m(self, input_ids, attention_mask, decoder_input_ids, decoder_attention_mask, head_mask, decoder_head_mask, cross_attn_head_mask, encoder_outputs, past_key_values, inputs_embeds, decoder_inputs_embeds, use_cache, output_attentions, output_hidden_states, return_dict)\u001b[0m\n\u001b[1;32m   1267\u001b[0m     encoder_outputs \u001b[39m=\u001b[39m BaseModelOutput(\n\u001b[1;32m   1268\u001b[0m         last_hidden_state\u001b[39m=\u001b[39mencoder_outputs[\u001b[39m0\u001b[39m],\n\u001b[1;32m   1269\u001b[0m         hidden_states\u001b[39m=\u001b[39mencoder_outputs[\u001b[39m1\u001b[39m] \u001b[39mif\u001b[39;00m \u001b[39mlen\u001b[39m(encoder_outputs) \u001b[39m>\u001b[39m \u001b[39m1\u001b[39m \u001b[39melse\u001b[39;00m \u001b[39mNone\u001b[39;00m,\n\u001b[1;32m   1270\u001b[0m         attentions\u001b[39m=\u001b[39mencoder_outputs[\u001b[39m2\u001b[39m] \u001b[39mif\u001b[39;00m \u001b[39mlen\u001b[39m(encoder_outputs) \u001b[39m>\u001b[39m \u001b[39m2\u001b[39m \u001b[39melse\u001b[39;00m \u001b[39mNone\u001b[39;00m,\n\u001b[1;32m   1271\u001b[0m     )\n\u001b[1;32m   1273\u001b[0m \u001b[39m# decoder outputs consists of (dec_features, past_key_value, dec_hidden, dec_attn)\u001b[39;00m\n\u001b[0;32m-> 1274\u001b[0m decoder_outputs \u001b[39m=\u001b[39m \u001b[39mself\u001b[39;49m\u001b[39m.\u001b[39;49mdecoder(\n\u001b[1;32m   1275\u001b[0m     input_ids\u001b[39m=\u001b[39;49mdecoder_input_ids,\n\u001b[1;32m   1276\u001b[0m     attention_mask\u001b[39m=\u001b[39;49mdecoder_attention_mask,\n\u001b[1;32m   1277\u001b[0m     encoder_hidden_states\u001b[39m=\u001b[39;49mencoder_outputs[\u001b[39m0\u001b[39;49m],\n\u001b[1;32m   1278\u001b[0m     encoder_attention_mask\u001b[39m=\u001b[39;49mattention_mask,\n\u001b[1;32m   1279\u001b[0m     head_mask\u001b[39m=\u001b[39;49mdecoder_head_mask,\n\u001b[1;32m   1280\u001b[0m     cross_attn_head_mask\u001b[39m=\u001b[39;49mcross_attn_head_mask,\n\u001b[1;32m   1281\u001b[0m     past_key_values\u001b[39m=\u001b[39;49mpast_key_values,\n\u001b[1;32m   1282\u001b[0m     inputs_embeds\u001b[39m=\u001b[39;49mdecoder_inputs_embeds,\n\u001b[1;32m   1283\u001b[0m     use_cache\u001b[39m=\u001b[39;49muse_cache,\n\u001b[1;32m   1284\u001b[0m     output_attentions\u001b[39m=\u001b[39;49moutput_attentions,\n\u001b[1;32m   1285\u001b[0m     output_hidden_states\u001b[39m=\u001b[39;49moutput_hidden_states,\n\u001b[1;32m   1286\u001b[0m     return_dict\u001b[39m=\u001b[39;49mreturn_dict,\n\u001b[1;32m   1287\u001b[0m )\n\u001b[1;32m   1289\u001b[0m \u001b[39mif\u001b[39;00m \u001b[39mnot\u001b[39;00m return_dict:\n\u001b[1;32m   1290\u001b[0m     \u001b[39mreturn\u001b[39;00m decoder_outputs \u001b[39m+\u001b[39m encoder_outputs\n",
      "File \u001b[0;32m~/.local/lib/python3.9/site-packages/torch/nn/modules/module.py:1518\u001b[0m, in \u001b[0;36mModule._wrapped_call_impl\u001b[0;34m(self, *args, **kwargs)\u001b[0m\n\u001b[1;32m   1516\u001b[0m     \u001b[39mreturn\u001b[39;00m \u001b[39mself\u001b[39m\u001b[39m.\u001b[39m_compiled_call_impl(\u001b[39m*\u001b[39margs, \u001b[39m*\u001b[39m\u001b[39m*\u001b[39mkwargs)  \u001b[39m# type: ignore[misc]\u001b[39;00m\n\u001b[1;32m   1517\u001b[0m \u001b[39melse\u001b[39;00m:\n\u001b[0;32m-> 1518\u001b[0m     \u001b[39mreturn\u001b[39;00m \u001b[39mself\u001b[39;49m\u001b[39m.\u001b[39;49m_call_impl(\u001b[39m*\u001b[39;49margs, \u001b[39m*\u001b[39;49m\u001b[39m*\u001b[39;49mkwargs)\n",
      "File \u001b[0;32m~/.local/lib/python3.9/site-packages/torch/nn/modules/module.py:1527\u001b[0m, in \u001b[0;36mModule._call_impl\u001b[0;34m(self, *args, **kwargs)\u001b[0m\n\u001b[1;32m   1522\u001b[0m \u001b[39m# If we don't have any hooks, we want to skip the rest of the logic in\u001b[39;00m\n\u001b[1;32m   1523\u001b[0m \u001b[39m# this function, and just call forward.\u001b[39;00m\n\u001b[1;32m   1524\u001b[0m \u001b[39mif\u001b[39;00m \u001b[39mnot\u001b[39;00m (\u001b[39mself\u001b[39m\u001b[39m.\u001b[39m_backward_hooks \u001b[39mor\u001b[39;00m \u001b[39mself\u001b[39m\u001b[39m.\u001b[39m_backward_pre_hooks \u001b[39mor\u001b[39;00m \u001b[39mself\u001b[39m\u001b[39m.\u001b[39m_forward_hooks \u001b[39mor\u001b[39;00m \u001b[39mself\u001b[39m\u001b[39m.\u001b[39m_forward_pre_hooks\n\u001b[1;32m   1525\u001b[0m         \u001b[39mor\u001b[39;00m _global_backward_pre_hooks \u001b[39mor\u001b[39;00m _global_backward_hooks\n\u001b[1;32m   1526\u001b[0m         \u001b[39mor\u001b[39;00m _global_forward_hooks \u001b[39mor\u001b[39;00m _global_forward_pre_hooks):\n\u001b[0;32m-> 1527\u001b[0m     \u001b[39mreturn\u001b[39;00m forward_call(\u001b[39m*\u001b[39;49margs, \u001b[39m*\u001b[39;49m\u001b[39m*\u001b[39;49mkwargs)\n\u001b[1;32m   1529\u001b[0m \u001b[39mtry\u001b[39;00m:\n\u001b[1;32m   1530\u001b[0m     result \u001b[39m=\u001b[39m \u001b[39mNone\u001b[39;00m\n",
      "File \u001b[0;32m~/.local/lib/python3.9/site-packages/transformers/models/bart/modeling_bart.py:1132\u001b[0m, in \u001b[0;36mBartDecoder.forward\u001b[0;34m(self, input_ids, attention_mask, encoder_hidden_states, encoder_attention_mask, head_mask, cross_attn_head_mask, past_key_values, inputs_embeds, use_cache, output_attentions, output_hidden_states, return_dict)\u001b[0m\n\u001b[1;32m   1121\u001b[0m     layer_outputs \u001b[39m=\u001b[39m torch\u001b[39m.\u001b[39mutils\u001b[39m.\u001b[39mcheckpoint\u001b[39m.\u001b[39mcheckpoint(\n\u001b[1;32m   1122\u001b[0m         create_custom_forward(decoder_layer),\n\u001b[1;32m   1123\u001b[0m         hidden_states,\n\u001b[0;32m   (...)\u001b[0m\n\u001b[1;32m   1129\u001b[0m         \u001b[39mNone\u001b[39;00m,\n\u001b[1;32m   1130\u001b[0m     )\n\u001b[1;32m   1131\u001b[0m \u001b[39melse\u001b[39;00m:\n\u001b[0;32m-> 1132\u001b[0m     layer_outputs \u001b[39m=\u001b[39m decoder_layer(\n\u001b[1;32m   1133\u001b[0m         hidden_states,\n\u001b[1;32m   1134\u001b[0m         attention_mask\u001b[39m=\u001b[39;49mattention_mask,\n\u001b[1;32m   1135\u001b[0m         encoder_hidden_states\u001b[39m=\u001b[39;49mencoder_hidden_states,\n\u001b[1;32m   1136\u001b[0m         encoder_attention_mask\u001b[39m=\u001b[39;49mencoder_attention_mask,\n\u001b[1;32m   1137\u001b[0m         layer_head_mask\u001b[39m=\u001b[39;49m(head_mask[idx] \u001b[39mif\u001b[39;49;00m head_mask \u001b[39mis\u001b[39;49;00m \u001b[39mnot\u001b[39;49;00m \u001b[39mNone\u001b[39;49;00m \u001b[39melse\u001b[39;49;00m \u001b[39mNone\u001b[39;49;00m),\n\u001b[1;32m   1138\u001b[0m         cross_attn_layer_head_mask\u001b[39m=\u001b[39;49m(\n\u001b[1;32m   1139\u001b[0m             cross_attn_head_mask[idx] \u001b[39mif\u001b[39;49;00m cross_attn_head_mask \u001b[39mis\u001b[39;49;00m \u001b[39mnot\u001b[39;49;00m \u001b[39mNone\u001b[39;49;00m \u001b[39melse\u001b[39;49;00m \u001b[39mNone\u001b[39;49;00m\n\u001b[1;32m   1140\u001b[0m         ),\n\u001b[1;32m   1141\u001b[0m         past_key_value\u001b[39m=\u001b[39;49mpast_key_value,\n\u001b[1;32m   1142\u001b[0m         output_attentions\u001b[39m=\u001b[39;49moutput_attentions,\n\u001b[1;32m   1143\u001b[0m         use_cache\u001b[39m=\u001b[39;49muse_cache,\n\u001b[1;32m   1144\u001b[0m     )\n\u001b[1;32m   1145\u001b[0m hidden_states \u001b[39m=\u001b[39m layer_outputs[\u001b[39m0\u001b[39m]\n\u001b[1;32m   1147\u001b[0m \u001b[39mif\u001b[39;00m use_cache:\n",
      "File \u001b[0;32m~/.local/lib/python3.9/site-packages/torch/nn/modules/module.py:1518\u001b[0m, in \u001b[0;36mModule._wrapped_call_impl\u001b[0;34m(self, *args, **kwargs)\u001b[0m\n\u001b[1;32m   1516\u001b[0m     \u001b[39mreturn\u001b[39;00m \u001b[39mself\u001b[39m\u001b[39m.\u001b[39m_compiled_call_impl(\u001b[39m*\u001b[39margs, \u001b[39m*\u001b[39m\u001b[39m*\u001b[39mkwargs)  \u001b[39m# type: ignore[misc]\u001b[39;00m\n\u001b[1;32m   1517\u001b[0m \u001b[39melse\u001b[39;00m:\n\u001b[0;32m-> 1518\u001b[0m     \u001b[39mreturn\u001b[39;00m \u001b[39mself\u001b[39;49m\u001b[39m.\u001b[39;49m_call_impl(\u001b[39m*\u001b[39;49margs, \u001b[39m*\u001b[39;49m\u001b[39m*\u001b[39;49mkwargs)\n",
      "File \u001b[0;32m~/.local/lib/python3.9/site-packages/torch/nn/modules/module.py:1527\u001b[0m, in \u001b[0;36mModule._call_impl\u001b[0;34m(self, *args, **kwargs)\u001b[0m\n\u001b[1;32m   1522\u001b[0m \u001b[39m# If we don't have any hooks, we want to skip the rest of the logic in\u001b[39;00m\n\u001b[1;32m   1523\u001b[0m \u001b[39m# this function, and just call forward.\u001b[39;00m\n\u001b[1;32m   1524\u001b[0m \u001b[39mif\u001b[39;00m \u001b[39mnot\u001b[39;00m (\u001b[39mself\u001b[39m\u001b[39m.\u001b[39m_backward_hooks \u001b[39mor\u001b[39;00m \u001b[39mself\u001b[39m\u001b[39m.\u001b[39m_backward_pre_hooks \u001b[39mor\u001b[39;00m \u001b[39mself\u001b[39m\u001b[39m.\u001b[39m_forward_hooks \u001b[39mor\u001b[39;00m \u001b[39mself\u001b[39m\u001b[39m.\u001b[39m_forward_pre_hooks\n\u001b[1;32m   1525\u001b[0m         \u001b[39mor\u001b[39;00m _global_backward_pre_hooks \u001b[39mor\u001b[39;00m _global_backward_hooks\n\u001b[1;32m   1526\u001b[0m         \u001b[39mor\u001b[39;00m _global_forward_hooks \u001b[39mor\u001b[39;00m _global_forward_pre_hooks):\n\u001b[0;32m-> 1527\u001b[0m     \u001b[39mreturn\u001b[39;00m forward_call(\u001b[39m*\u001b[39;49margs, \u001b[39m*\u001b[39;49m\u001b[39m*\u001b[39;49mkwargs)\n\u001b[1;32m   1529\u001b[0m \u001b[39mtry\u001b[39;00m:\n\u001b[1;32m   1530\u001b[0m     result \u001b[39m=\u001b[39m \u001b[39mNone\u001b[39;00m\n",
      "File \u001b[0;32m~/.local/lib/python3.9/site-packages/transformers/models/bart/modeling_bart.py:446\u001b[0m, in \u001b[0;36mBartDecoderLayer.forward\u001b[0;34m(self, hidden_states, attention_mask, encoder_hidden_states, encoder_attention_mask, layer_head_mask, cross_attn_layer_head_mask, past_key_value, output_attentions, use_cache)\u001b[0m\n\u001b[1;32m    444\u001b[0m \u001b[39m# cross_attn cached key/values tuple is at positions 3,4 of present_key_value tuple\u001b[39;00m\n\u001b[1;32m    445\u001b[0m cross_attn_past_key_value \u001b[39m=\u001b[39m past_key_value[\u001b[39m-\u001b[39m\u001b[39m2\u001b[39m:] \u001b[39mif\u001b[39;00m past_key_value \u001b[39mis\u001b[39;00m \u001b[39mnot\u001b[39;00m \u001b[39mNone\u001b[39;00m \u001b[39melse\u001b[39;00m \u001b[39mNone\u001b[39;00m\n\u001b[0;32m--> 446\u001b[0m hidden_states, cross_attn_weights, cross_attn_present_key_value \u001b[39m=\u001b[39m \u001b[39mself\u001b[39;49m\u001b[39m.\u001b[39;49mencoder_attn(\n\u001b[1;32m    447\u001b[0m     hidden_states\u001b[39m=\u001b[39;49mhidden_states,\n\u001b[1;32m    448\u001b[0m     key_value_states\u001b[39m=\u001b[39;49mencoder_hidden_states,\n\u001b[1;32m    449\u001b[0m     attention_mask\u001b[39m=\u001b[39;49mencoder_attention_mask,\n\u001b[1;32m    450\u001b[0m     layer_head_mask\u001b[39m=\u001b[39;49mcross_attn_layer_head_mask,\n\u001b[1;32m    451\u001b[0m     past_key_value\u001b[39m=\u001b[39;49mcross_attn_past_key_value,\n\u001b[1;32m    452\u001b[0m     output_attentions\u001b[39m=\u001b[39;49moutput_attentions,\n\u001b[1;32m    453\u001b[0m )\n\u001b[1;32m    454\u001b[0m hidden_states \u001b[39m=\u001b[39m nn\u001b[39m.\u001b[39mfunctional\u001b[39m.\u001b[39mdropout(hidden_states, p\u001b[39m=\u001b[39m\u001b[39mself\u001b[39m\u001b[39m.\u001b[39mdropout, training\u001b[39m=\u001b[39m\u001b[39mself\u001b[39m\u001b[39m.\u001b[39mtraining)\n\u001b[1;32m    455\u001b[0m hidden_states \u001b[39m=\u001b[39m residual \u001b[39m+\u001b[39m hidden_states\n",
      "File \u001b[0;32m~/.local/lib/python3.9/site-packages/torch/nn/modules/module.py:1518\u001b[0m, in \u001b[0;36mModule._wrapped_call_impl\u001b[0;34m(self, *args, **kwargs)\u001b[0m\n\u001b[1;32m   1516\u001b[0m     \u001b[39mreturn\u001b[39;00m \u001b[39mself\u001b[39m\u001b[39m.\u001b[39m_compiled_call_impl(\u001b[39m*\u001b[39margs, \u001b[39m*\u001b[39m\u001b[39m*\u001b[39mkwargs)  \u001b[39m# type: ignore[misc]\u001b[39;00m\n\u001b[1;32m   1517\u001b[0m \u001b[39melse\u001b[39;00m:\n\u001b[0;32m-> 1518\u001b[0m     \u001b[39mreturn\u001b[39;00m \u001b[39mself\u001b[39;49m\u001b[39m.\u001b[39;49m_call_impl(\u001b[39m*\u001b[39;49margs, \u001b[39m*\u001b[39;49m\u001b[39m*\u001b[39;49mkwargs)\n",
      "File \u001b[0;32m~/.local/lib/python3.9/site-packages/torch/nn/modules/module.py:1527\u001b[0m, in \u001b[0;36mModule._call_impl\u001b[0;34m(self, *args, **kwargs)\u001b[0m\n\u001b[1;32m   1522\u001b[0m \u001b[39m# If we don't have any hooks, we want to skip the rest of the logic in\u001b[39;00m\n\u001b[1;32m   1523\u001b[0m \u001b[39m# this function, and just call forward.\u001b[39;00m\n\u001b[1;32m   1524\u001b[0m \u001b[39mif\u001b[39;00m \u001b[39mnot\u001b[39;00m (\u001b[39mself\u001b[39m\u001b[39m.\u001b[39m_backward_hooks \u001b[39mor\u001b[39;00m \u001b[39mself\u001b[39m\u001b[39m.\u001b[39m_backward_pre_hooks \u001b[39mor\u001b[39;00m \u001b[39mself\u001b[39m\u001b[39m.\u001b[39m_forward_hooks \u001b[39mor\u001b[39;00m \u001b[39mself\u001b[39m\u001b[39m.\u001b[39m_forward_pre_hooks\n\u001b[1;32m   1525\u001b[0m         \u001b[39mor\u001b[39;00m _global_backward_pre_hooks \u001b[39mor\u001b[39;00m _global_backward_hooks\n\u001b[1;32m   1526\u001b[0m         \u001b[39mor\u001b[39;00m _global_forward_hooks \u001b[39mor\u001b[39;00m _global_forward_pre_hooks):\n\u001b[0;32m-> 1527\u001b[0m     \u001b[39mreturn\u001b[39;00m forward_call(\u001b[39m*\u001b[39;49margs, \u001b[39m*\u001b[39;49m\u001b[39m*\u001b[39;49mkwargs)\n\u001b[1;32m   1529\u001b[0m \u001b[39mtry\u001b[39;00m:\n\u001b[1;32m   1530\u001b[0m     result \u001b[39m=\u001b[39m \u001b[39mNone\u001b[39;00m\n",
      "File \u001b[0;32m~/.local/lib/python3.9/site-packages/transformers/models/bart/modeling_bart.py:209\u001b[0m, in \u001b[0;36mBartAttention.forward\u001b[0;34m(self, hidden_states, key_value_states, past_key_value, attention_mask, layer_head_mask, output_attentions)\u001b[0m\n\u001b[1;32m    206\u001b[0m \u001b[39melif\u001b[39;00m is_cross_attention:\n\u001b[1;32m    207\u001b[0m     \u001b[39m# cross_attentions\u001b[39;00m\n\u001b[1;32m    208\u001b[0m     key_states \u001b[39m=\u001b[39m \u001b[39mself\u001b[39m\u001b[39m.\u001b[39m_shape(\u001b[39mself\u001b[39m\u001b[39m.\u001b[39mk_proj(key_value_states), \u001b[39m-\u001b[39m\u001b[39m1\u001b[39m, bsz)\n\u001b[0;32m--> 209\u001b[0m     value_states \u001b[39m=\u001b[39m \u001b[39mself\u001b[39m\u001b[39m.\u001b[39m_shape(\u001b[39mself\u001b[39;49m\u001b[39m.\u001b[39;49mv_proj(key_value_states), \u001b[39m-\u001b[39m\u001b[39m1\u001b[39m, bsz)\n\u001b[1;32m    210\u001b[0m \u001b[39melif\u001b[39;00m past_key_value \u001b[39mis\u001b[39;00m \u001b[39mnot\u001b[39;00m \u001b[39mNone\u001b[39;00m:\n\u001b[1;32m    211\u001b[0m     \u001b[39m# reuse k, v, self_attention\u001b[39;00m\n\u001b[1;32m    212\u001b[0m     key_states \u001b[39m=\u001b[39m \u001b[39mself\u001b[39m\u001b[39m.\u001b[39m_shape(\u001b[39mself\u001b[39m\u001b[39m.\u001b[39mk_proj(hidden_states), \u001b[39m-\u001b[39m\u001b[39m1\u001b[39m, bsz)\n",
      "File \u001b[0;32m~/.local/lib/python3.9/site-packages/torch/nn/modules/module.py:1518\u001b[0m, in \u001b[0;36mModule._wrapped_call_impl\u001b[0;34m(self, *args, **kwargs)\u001b[0m\n\u001b[1;32m   1516\u001b[0m     \u001b[39mreturn\u001b[39;00m \u001b[39mself\u001b[39m\u001b[39m.\u001b[39m_compiled_call_impl(\u001b[39m*\u001b[39margs, \u001b[39m*\u001b[39m\u001b[39m*\u001b[39mkwargs)  \u001b[39m# type: ignore[misc]\u001b[39;00m\n\u001b[1;32m   1517\u001b[0m \u001b[39melse\u001b[39;00m:\n\u001b[0;32m-> 1518\u001b[0m     \u001b[39mreturn\u001b[39;00m \u001b[39mself\u001b[39;49m\u001b[39m.\u001b[39;49m_call_impl(\u001b[39m*\u001b[39;49margs, \u001b[39m*\u001b[39;49m\u001b[39m*\u001b[39;49mkwargs)\n",
      "File \u001b[0;32m~/.local/lib/python3.9/site-packages/torch/nn/modules/module.py:1527\u001b[0m, in \u001b[0;36mModule._call_impl\u001b[0;34m(self, *args, **kwargs)\u001b[0m\n\u001b[1;32m   1522\u001b[0m \u001b[39m# If we don't have any hooks, we want to skip the rest of the logic in\u001b[39;00m\n\u001b[1;32m   1523\u001b[0m \u001b[39m# this function, and just call forward.\u001b[39;00m\n\u001b[1;32m   1524\u001b[0m \u001b[39mif\u001b[39;00m \u001b[39mnot\u001b[39;00m (\u001b[39mself\u001b[39m\u001b[39m.\u001b[39m_backward_hooks \u001b[39mor\u001b[39;00m \u001b[39mself\u001b[39m\u001b[39m.\u001b[39m_backward_pre_hooks \u001b[39mor\u001b[39;00m \u001b[39mself\u001b[39m\u001b[39m.\u001b[39m_forward_hooks \u001b[39mor\u001b[39;00m \u001b[39mself\u001b[39m\u001b[39m.\u001b[39m_forward_pre_hooks\n\u001b[1;32m   1525\u001b[0m         \u001b[39mor\u001b[39;00m _global_backward_pre_hooks \u001b[39mor\u001b[39;00m _global_backward_hooks\n\u001b[1;32m   1526\u001b[0m         \u001b[39mor\u001b[39;00m _global_forward_hooks \u001b[39mor\u001b[39;00m _global_forward_pre_hooks):\n\u001b[0;32m-> 1527\u001b[0m     \u001b[39mreturn\u001b[39;00m forward_call(\u001b[39m*\u001b[39;49margs, \u001b[39m*\u001b[39;49m\u001b[39m*\u001b[39;49mkwargs)\n\u001b[1;32m   1529\u001b[0m \u001b[39mtry\u001b[39;00m:\n\u001b[1;32m   1530\u001b[0m     result \u001b[39m=\u001b[39m \u001b[39mNone\u001b[39;00m\n",
      "File \u001b[0;32m~/.local/lib/python3.9/site-packages/torch/nn/modules/linear.py:114\u001b[0m, in \u001b[0;36mLinear.forward\u001b[0;34m(self, input)\u001b[0m\n\u001b[1;32m    113\u001b[0m \u001b[39mdef\u001b[39;00m \u001b[39mforward\u001b[39m(\u001b[39mself\u001b[39m, \u001b[39minput\u001b[39m: Tensor) \u001b[39m-\u001b[39m\u001b[39m>\u001b[39m Tensor:\n\u001b[0;32m--> 114\u001b[0m     \u001b[39mreturn\u001b[39;00m F\u001b[39m.\u001b[39;49mlinear(\u001b[39minput\u001b[39;49m, \u001b[39mself\u001b[39;49m\u001b[39m.\u001b[39;49mweight, \u001b[39mself\u001b[39;49m\u001b[39m.\u001b[39;49mbias)\n",
      "\u001b[0;31mKeyboardInterrupt\u001b[0m: "
     ]
    }
   ],
   "source": [
    "from rouge import Rouge\n",
    "\n",
    "score_list = []\n",
    "# Initialize Rouge\n",
    "rouge = Rouge()\n",
    "\n",
    "# Example reference summary and system summary\n",
    "for i in tqdm(range(len(df2))):\n",
    "    reference_summary = df2.iloc[i][\"annotations\"]['short_answers'][0]['text'][0]\n",
    "    system_summary = generate(df2.iloc[i]['question']['text'], tokenizer_token, retriever_token, model_token, max_length = 3)\n",
    "    reference_summary = reference_summary.lower()\n",
    "    system_summary = system_summary.lower()\n",
    "    if(len(reference_summary) == 0 or len(system_summary) == 0):\n",
    "        continue\n",
    "    # print(type(reference_summary))\n",
    "    # print(type(system_summary))\n",
    "    # print(reference_summary)\n",
    "    # print(system_summary)\n",
    "    # Calculate ROUGE scores\n",
    "    scores = rouge.get_scores(system_summary, reference_summary)\n",
    "    score_list.append(scores)\n",
    "\n",
    "# Print ROUGE scores\n",
    "print(scores)"
   ]
  },
  {
   "cell_type": "code",
   "execution_count": 31,
   "metadata": {},
   "outputs": [
    {
     "data": {
      "text/plain": [
       "{'rouge-1': {'r': 0.0, 'p': 0.0, 'f': 0.0},\n",
       " 'rouge-2': {'r': 0.0, 'p': 0.0, 'f': 0.0},\n",
       " 'rouge-l': {'r': 0.0, 'p': 0.0, 'f': 0.0}}"
      ]
     },
     "execution_count": 31,
     "metadata": {},
     "output_type": "execute_result"
    }
   ],
   "source": [
    "score_list[0][0]"
   ]
  },
  {
   "cell_type": "code",
   "execution_count": 32,
   "metadata": {},
   "outputs": [
    {
     "name": "stdout",
     "output_type": "stream",
     "text": [
      "0.4999999962500001\n",
      "0.06249999953125001\n"
     ]
    }
   ],
   "source": [
    "j = len(score_list)\n",
    "score_list2 = []\n",
    "for i in range(j):\n",
    "    score_list2.append(score_list[i][0]['rouge-1']['f'])\n",
    "print(max(score_list2))\n",
    "print(sum(score_list2) / len(score_list2))"
   ]
  },
  {
   "cell_type": "code",
   "execution_count": 33,
   "metadata": {},
   "outputs": [
    {
     "data": {
      "text/plain": [
       "Linear(in_features=1024, out_features=50265, bias=False)"
      ]
     },
     "execution_count": 33,
     "metadata": {},
     "output_type": "execute_result"
    }
   ],
   "source": [
    "model_token.rag.generator.lm_head"
   ]
  },
  {
   "cell_type": "code",
   "execution_count": 34,
   "metadata": {},
   "outputs": [],
   "source": [
    "class QAModel(nn.Module):\n",
    "    def __init__(self, model):\n",
    "        super(QAModel, self).__init__()\n",
    "        qa_model = copy.deepcopy(model)\n",
    "        qa_model.rag.generator.lm_head = nn.Identity()\n",
    "        qa_model.rag.generator.lm_head = nn.Linear(1024, 50265)\n",
    "        for param in qa_model.parameters():\n",
    "            param.requires_grad = False\n",
    "        for param in qa_model.rag.generator.lm_head.parameters():\n",
    "            param.requires_grad = True\n",
    "        self.qa_model = qa_model\n",
    "    \n",
    "    def forward(self, x):\n",
    "        x = self.qa_model.__call__(input_ids=x)\n",
    "        return x"
   ]
  },
  {
   "cell_type": "code",
   "execution_count": 35,
   "metadata": {},
   "outputs": [],
   "source": [
    "qa_model = QAModel(model_token)"
   ]
  },
  {
   "cell_type": "code",
   "execution_count": 36,
   "metadata": {},
   "outputs": [],
   "source": [
    "def tokenize(sentences):\n",
    "    tokenized = []\n",
    "    for sentence in tqdm(sentences):\n",
    "        tokenized.append(word_tokenize(sentence))\n",
    "    return tokenized"
   ]
  },
  {
   "cell_type": "code",
   "execution_count": 37,
   "metadata": {},
   "outputs": [],
   "source": [
    "vocabulary = tokenizer_token.generator.get_vocab()\n",
    "def convert_tokens_to_numbers(tokenized_sentences):\n",
    "    tokenized_sentences_in_numbers = []\n",
    "    for sentence in tqdm(tokenized_sentences):\n",
    "        temp = []\n",
    "        for token in sentence:\n",
    "            temp.append(vocabulary[token])\n",
    "        tokenized_sentences_in_numbers.append(temp)\n",
    "    return tokenized_sentences_in_numbers"
   ]
  },
  {
   "cell_type": "code",
   "execution_count": 38,
   "metadata": {},
   "outputs": [
    {
     "name": "stdout",
     "output_type": "stream",
     "text": [
      "<class 'dict'>\n"
     ]
    }
   ],
   "source": [
    "print(type(vocabulary))"
   ]
  },
  {
   "cell_type": "code",
   "execution_count": 39,
   "metadata": {},
   "outputs": [
    {
     "name": "stdout",
     "output_type": "stream",
     "text": [
      "{'input_ids': tensor([[ 101, 7592, 2129, 2024, 2017,  102]]), 'token_type_ids': tensor([[0, 0, 0, 0, 0, 0]]), 'attention_mask': tensor([[1, 1, 1, 1, 1, 1]])}\n"
     ]
    }
   ],
   "source": [
    "input_dict = tokenizer_token.__call__(\"Hello how are you\", return_tensors=\"pt\")\n",
    "print(input_dict) "
   ]
  },
  {
   "cell_type": "code",
   "execution_count": 40,
   "metadata": {},
   "outputs": [],
   "source": [
    "class QADataset(Dataset):\n",
    "    def __init__(self, df2, tokenizer):\n",
    "        super(QADataset, self).__init__()\n",
    "        j = len(df2)\n",
    "        questions = []\n",
    "        answers = []\n",
    "        for i in range(j):\n",
    "            questions.append((tokenizer.__call__(df2.iloc[i]['question']['text'], return_tensors = \"pt\")[\"input_ids\"])[0])\n",
    "            answers.append((tokenizer.__call__(df2.iloc[i][\"annotations\"]['short_answers'][0]['text'][0], return_tensors = \"pt\")[\"input_ids\"])[0])\n",
    "            # questions.append(df2.iloc[i]['question']['text'])\n",
    "            # answers.append(df2.iloc[i][\"annotations\"]['short_answers'][0]['text'][0])\n",
    "        self.questions_in_numbers = copy.deepcopy(questions)\n",
    "        self.answers_in_numbers = copy.deepcopy(answers)\n",
    "        self.x = []\n",
    "        self.y = []\n",
    "        j = len(self.questions_in_numbers)\n",
    "        for i in range(j):\n",
    "            self.x.append(torch.tensor(self.questions_in_numbers[i]))\n",
    "            self.y.append(torch.tensor(self.answers_in_numbers[i]))\n",
    "    def __len__(self):\n",
    "        return len(self.x)\n",
    "    def __getitem__(self, idx):\n",
    "        return self.x[idx], self.y[idx]\n",
    "                "
   ]
  },
  {
   "cell_type": "code",
   "execution_count": 41,
   "metadata": {},
   "outputs": [
    {
     "name": "stderr",
     "output_type": "stream",
     "text": [
      "/tmp/ipykernel_14390/2397817201.py:18: UserWarning: To copy construct from a tensor, it is recommended to use sourceTensor.clone().detach() or sourceTensor.clone().detach().requires_grad_(True), rather than torch.tensor(sourceTensor).\n",
      "  self.x.append(torch.tensor(self.questions_in_numbers[i]))\n",
      "/tmp/ipykernel_14390/2397817201.py:19: UserWarning: To copy construct from a tensor, it is recommended to use sourceTensor.clone().detach() or sourceTensor.clone().detach().requires_grad_(True), rather than torch.tensor(sourceTensor).\n",
      "  self.y.append(torch.tensor(self.answers_in_numbers[i]))\n"
     ]
    }
   ],
   "source": [
    "qa_dataset = QADataset(df2, tokenizer_token)\n",
    "qa_dataloader = DataLoader(qa_dataset, 1, shuffle = True)\n"
   ]
  },
  {
   "cell_type": "code",
   "execution_count": 42,
   "metadata": {},
   "outputs": [
    {
     "data": {
      "text/plain": [
       "(tensor([ 101, 2054, 2003, 1996, 2171, 1997, 1996, 2087, 2590, 3644, 3793,  102]),\n",
       " tensor([  101,  1996, 18454, 29358,  2319, 12098, 10875,   102]))"
      ]
     },
     "execution_count": 42,
     "metadata": {},
     "output_type": "execute_result"
    }
   ],
   "source": [
    "qa_dataset[2]"
   ]
  },
  {
   "cell_type": "code",
   "execution_count": 45,
   "metadata": {},
   "outputs": [
    {
     "name": "stderr",
     "output_type": "stream",
     "text": [
      "0it [00:00, ?it/s]"
     ]
    },
    {
     "name": "stdout",
     "output_type": "stream",
     "text": [
      "torch.Size([1, 7])\n",
      "torch.Size([1, 11])\n"
     ]
    },
    {
     "name": "stderr",
     "output_type": "stream",
     "text": [
      "0it [00:03, ?it/s]"
     ]
    },
    {
     "name": "stdout",
     "output_type": "stream",
     "text": [
      "torch.Size([5, 300, 50265])\n",
      "tensor([[[ 0.0791,  0.6174, -0.5041,  ..., -0.6006,  0.0599,  0.3395],\n",
      "         [ 0.0791,  0.6174, -0.5041,  ..., -0.6006,  0.0599,  0.3395],\n",
      "         [-0.4396, -0.8913,  0.1469,  ..., -0.2806, -0.2915,  0.1102],\n",
      "         ...,\n",
      "         [-0.6243,  0.8446,  0.1960,  ..., -1.8605,  0.6761, -0.3609],\n",
      "         [-0.6419,  0.9009,  0.1885,  ..., -1.8621,  0.6936, -0.3391],\n",
      "         [-0.6743,  0.9459,  0.1845,  ..., -1.9320,  0.7261, -0.3466]],\n",
      "\n",
      "        [[ 0.0295,  0.9630, -0.6751,  ..., -0.7132,  0.0303,  0.4359],\n",
      "         [ 0.0295,  0.9629, -0.6751,  ..., -0.7132,  0.0303,  0.4359],\n",
      "         [ 0.1505,  0.1875,  0.4777,  ..., -0.5575, -0.4973, -0.5867],\n",
      "         ...,\n",
      "         [-0.5964,  1.3728,  0.1142,  ..., -1.5648,  0.7117, -0.5075],\n",
      "         [-0.6158,  1.3713,  0.0941,  ..., -1.6161,  0.6649, -0.4368],\n",
      "         [-0.7056,  1.3956,  0.0381,  ..., -1.7079,  0.5516, -0.4281]],\n",
      "\n",
      "        [[ 0.0828,  0.6782, -0.7357,  ..., -0.3253,  0.3738,  0.4118],\n",
      "         [ 0.0828,  0.6782, -0.7357,  ..., -0.3253,  0.3738,  0.4118],\n",
      "         [-0.7352, -0.5592,  0.1747,  ..., -0.0044, -0.1496,  0.3402],\n",
      "         ...,\n",
      "         [-0.7231,  0.8343,  0.2565,  ..., -1.7107,  0.9284, -0.3707],\n",
      "         [-0.7268,  0.8683,  0.2378,  ..., -1.7141,  0.9188, -0.3102],\n",
      "         [-0.7724,  0.8849,  0.2413,  ..., -1.7833,  0.9212, -0.3198]],\n",
      "\n",
      "        [[ 0.3908,  1.0561, -0.4619,  ..., -0.5366, -0.0153,  0.1144],\n",
      "         [ 0.3908,  1.0561, -0.4619,  ..., -0.5366, -0.0153,  0.1144],\n",
      "         [-0.2638,  0.1145, -0.2108,  ..., -0.5620,  0.3747,  0.0811],\n",
      "         ...,\n",
      "         [-0.4705,  0.7541,  0.0416,  ..., -1.3956,  0.9454, -0.1839],\n",
      "         [-0.3440,  0.6987,  0.0881,  ..., -1.2944,  0.9140, -0.0842],\n",
      "         [-0.4609,  0.7954,  0.0776,  ..., -1.3823,  0.8964, -0.0853]],\n",
      "\n",
      "        [[-0.0526,  0.9108, -0.2882,  ..., -0.4581,  0.2086,  0.3423],\n",
      "         [-0.0526,  0.9108, -0.2882,  ..., -0.4581,  0.2086,  0.3423],\n",
      "         [-0.3741, -0.4220,  0.5805,  ..., -0.2741, -0.5127, -0.1879],\n",
      "         ...,\n",
      "         [-0.7794,  1.0948,  0.1095,  ..., -1.7475,  0.6943, -0.1891],\n",
      "         [-0.7921,  1.1375,  0.1190,  ..., -1.7561,  0.6939, -0.1520],\n",
      "         [-0.8242,  1.1395,  0.1277,  ..., -1.8119,  0.6234, -0.1567]]],\n",
      "       grad_fn=<AddBackward0>)\n"
     ]
    },
    {
     "name": "stderr",
     "output_type": "stream",
     "text": [
      "\n"
     ]
    },
    {
     "ename": "ValueError",
     "evalue": "Expected input batch_size (5) to match target batch_size (1).",
     "output_type": "error",
     "traceback": [
      "\u001b[0;31m---------------------------------------------------------------------------\u001b[0m",
      "\u001b[0;31mValueError\u001b[0m                                Traceback (most recent call last)",
      "Cell \u001b[0;32mIn[45], line 15\u001b[0m\n\u001b[1;32m     13\u001b[0m \u001b[38;5;28mprint\u001b[39m(logits\u001b[38;5;241m.\u001b[39mshape)\n\u001b[1;32m     14\u001b[0m \u001b[38;5;28mprint\u001b[39m(logits)\n\u001b[0;32m---> 15\u001b[0m loss \u001b[38;5;241m=\u001b[39m \u001b[43mcriterion\u001b[49m\u001b[43m(\u001b[49m\u001b[43mlogits\u001b[49m\u001b[43m,\u001b[49m\u001b[43m \u001b[49m\u001b[43mtargets\u001b[49m\u001b[43m)\u001b[49m\n\u001b[1;32m     16\u001b[0m optimizer\u001b[38;5;241m.\u001b[39mzero_grad()\n\u001b[1;32m     17\u001b[0m loss\u001b[38;5;241m.\u001b[39mbackward()\n",
      "File \u001b[0;32m~/.local/lib/python3.9/site-packages/torch/nn/modules/module.py:1518\u001b[0m, in \u001b[0;36mModule._wrapped_call_impl\u001b[0;34m(self, *args, **kwargs)\u001b[0m\n\u001b[1;32m   1516\u001b[0m     \u001b[39mreturn\u001b[39;00m \u001b[39mself\u001b[39m\u001b[39m.\u001b[39m_compiled_call_impl(\u001b[39m*\u001b[39margs, \u001b[39m*\u001b[39m\u001b[39m*\u001b[39mkwargs)  \u001b[39m# type: ignore[misc]\u001b[39;00m\n\u001b[1;32m   1517\u001b[0m \u001b[39melse\u001b[39;00m:\n\u001b[0;32m-> 1518\u001b[0m     \u001b[39mreturn\u001b[39;00m \u001b[39mself\u001b[39;49m\u001b[39m.\u001b[39;49m_call_impl(\u001b[39m*\u001b[39;49margs, \u001b[39m*\u001b[39;49m\u001b[39m*\u001b[39;49mkwargs)\n",
      "File \u001b[0;32m~/.local/lib/python3.9/site-packages/torch/nn/modules/module.py:1527\u001b[0m, in \u001b[0;36mModule._call_impl\u001b[0;34m(self, *args, **kwargs)\u001b[0m\n\u001b[1;32m   1522\u001b[0m \u001b[39m# If we don't have any hooks, we want to skip the rest of the logic in\u001b[39;00m\n\u001b[1;32m   1523\u001b[0m \u001b[39m# this function, and just call forward.\u001b[39;00m\n\u001b[1;32m   1524\u001b[0m \u001b[39mif\u001b[39;00m \u001b[39mnot\u001b[39;00m (\u001b[39mself\u001b[39m\u001b[39m.\u001b[39m_backward_hooks \u001b[39mor\u001b[39;00m \u001b[39mself\u001b[39m\u001b[39m.\u001b[39m_backward_pre_hooks \u001b[39mor\u001b[39;00m \u001b[39mself\u001b[39m\u001b[39m.\u001b[39m_forward_hooks \u001b[39mor\u001b[39;00m \u001b[39mself\u001b[39m\u001b[39m.\u001b[39m_forward_pre_hooks\n\u001b[1;32m   1525\u001b[0m         \u001b[39mor\u001b[39;00m _global_backward_pre_hooks \u001b[39mor\u001b[39;00m _global_backward_hooks\n\u001b[1;32m   1526\u001b[0m         \u001b[39mor\u001b[39;00m _global_forward_hooks \u001b[39mor\u001b[39;00m _global_forward_pre_hooks):\n\u001b[0;32m-> 1527\u001b[0m     \u001b[39mreturn\u001b[39;00m forward_call(\u001b[39m*\u001b[39;49margs, \u001b[39m*\u001b[39;49m\u001b[39m*\u001b[39;49mkwargs)\n\u001b[1;32m   1529\u001b[0m \u001b[39mtry\u001b[39;00m:\n\u001b[1;32m   1530\u001b[0m     result \u001b[39m=\u001b[39m \u001b[39mNone\u001b[39;00m\n",
      "File \u001b[0;32m~/.local/lib/python3.9/site-packages/torch/nn/modules/loss.py:1179\u001b[0m, in \u001b[0;36mCrossEntropyLoss.forward\u001b[0;34m(self, input, target)\u001b[0m\n\u001b[1;32m   1178\u001b[0m \u001b[39mdef\u001b[39;00m \u001b[39mforward\u001b[39m(\u001b[39mself\u001b[39m, \u001b[39minput\u001b[39m: Tensor, target: Tensor) \u001b[39m-\u001b[39m\u001b[39m>\u001b[39m Tensor:\n\u001b[0;32m-> 1179\u001b[0m     \u001b[39mreturn\u001b[39;00m F\u001b[39m.\u001b[39;49mcross_entropy(\u001b[39minput\u001b[39;49m, target, weight\u001b[39m=\u001b[39;49m\u001b[39mself\u001b[39;49m\u001b[39m.\u001b[39;49mweight,\n\u001b[1;32m   1180\u001b[0m                            ignore_index\u001b[39m=\u001b[39;49m\u001b[39mself\u001b[39;49m\u001b[39m.\u001b[39;49mignore_index, reduction\u001b[39m=\u001b[39;49m\u001b[39mself\u001b[39;49m\u001b[39m.\u001b[39;49mreduction,\n\u001b[1;32m   1181\u001b[0m                            label_smoothing\u001b[39m=\u001b[39;49m\u001b[39mself\u001b[39;49m\u001b[39m.\u001b[39;49mlabel_smoothing)\n",
      "File \u001b[0;32m~/.local/lib/python3.9/site-packages/torch/nn/functional.py:3053\u001b[0m, in \u001b[0;36mcross_entropy\u001b[0;34m(input, target, weight, size_average, ignore_index, reduce, reduction, label_smoothing)\u001b[0m\n\u001b[1;32m   3051\u001b[0m \u001b[39mif\u001b[39;00m size_average \u001b[39mis\u001b[39;00m \u001b[39mnot\u001b[39;00m \u001b[39mNone\u001b[39;00m \u001b[39mor\u001b[39;00m reduce \u001b[39mis\u001b[39;00m \u001b[39mnot\u001b[39;00m \u001b[39mNone\u001b[39;00m:\n\u001b[1;32m   3052\u001b[0m     reduction \u001b[39m=\u001b[39m _Reduction\u001b[39m.\u001b[39mlegacy_get_string(size_average, reduce)\n\u001b[0;32m-> 3053\u001b[0m \u001b[39mreturn\u001b[39;00m torch\u001b[39m.\u001b[39;49m_C\u001b[39m.\u001b[39;49m_nn\u001b[39m.\u001b[39;49mcross_entropy_loss(\u001b[39minput\u001b[39;49m, target, weight, _Reduction\u001b[39m.\u001b[39;49mget_enum(reduction), ignore_index, label_smoothing)\n",
      "\u001b[0;31mValueError\u001b[0m: Expected input batch_size (5) to match target batch_size (1)."
     ]
    }
   ],
   "source": [
    "optimizer = torch.optim.Adam(qa_model.parameters(), lr=0.0001)\n",
    "criterion = nn.CrossEntropyLoss(ignore_index = -100)\n",
    "for epoch_num in range(1):\n",
    "    train_loss = []\n",
    "    for batch_num, (inputs, targets) in tqdm(enumerate(qa_dataloader)):\n",
    "        print(targets.shape)\n",
    "        print(inputs.shape)\n",
    "        # print(inputs)\n",
    "        inputs = inputs.to(device)\n",
    "        targets = targets.float().to(device)\n",
    "        pred = qa_model(inputs)\n",
    "        logits = pred.logits.float().to(device)\n",
    "        print(logits.shape)\n",
    "        print(logits)\n",
    "        loss = criterion(logits, targets)\n",
    "        optimizer.zero_grad()\n",
    "        loss.backward()\n",
    "        optimizer.step()\n",
    "        train_loss.append(loss.item())\n",
    "        if batch_num % 4000 == 0:\n",
    "            # print loss every 2 steps\n",
    "            mean_loss = sum(train_loss) / len(train_loss)\n",
    "            print(f\"{batch_num=}, {mean_loss=}\")\n",
    "            train_loss = []\n",
    "            torch.save(qa_model, \"qa_model\")\n",
    "### DO 2 and 3 again"
   ]
  },
  {
   "cell_type": "code",
   "execution_count": null,
   "metadata": {},
   "outputs": [],
   "source": []
  }
 ],
 "metadata": {
  "kernelspec": {
   "display_name": "Python 3.9.7 64-bit",
   "language": "python",
   "name": "python3"
  },
  "language_info": {
   "codemirror_mode": {
    "name": "ipython",
    "version": 3
   },
   "file_extension": ".py",
   "mimetype": "text/x-python",
   "name": "python",
   "nbconvert_exporter": "python",
   "pygments_lexer": "ipython3",
   "version": "3.9.7"
  },
  "orig_nbformat": 4,
  "vscode": {
   "interpreter": {
    "hash": "e7370f93d1d0cde622a1f8e1c04877d8463912d04d973331ad4851f04de6915a"
   }
  }
 },
 "nbformat": 4,
 "nbformat_minor": 2
}
